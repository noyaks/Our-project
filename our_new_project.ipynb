{
 "cells": [
  {
   "cell_type": "markdown",
   "id": "0ae7f97a-5420-4d78-9c36-d6ac928e3535",
   "metadata": {},
   "source": [
    "# Final project:\n",
    "\n",
    "# Group 54\n",
    "\n",
    "# Engineering graduate salary\n",
    "\n",
    "### Name of students:\n",
    "Noya Kanfey Shahar<br>\n",
    "Hila Engelman<br>\n",
    "Einav Inon<br>\n",
    "\n",
    "<a id='top'></a>\n",
    "\n",
    "<div>\n",
    "<img src=\"https://github.com/noyaks/Our-project/blob/main/cover01.jpg?raw=true\" \n",
    "width=\"800\"/>\n",
    "</div>"
   ]
  },
  {
   "cell_type": "code",
   "execution_count": 445,
   "id": "d954a40b-a93f-4ec2-a199-ec435502c22b",
   "metadata": {},
   "outputs": [
    {
     "name": "stdout",
     "output_type": "stream",
     "text": [
      "Requirement already satisfied: plotly in c:\\users\\noya_ks\\anaconda3\\lib\\site-packages (5.9.0)\n",
      "Requirement already satisfied: tenacity>=6.2.0 in c:\\users\\noya_ks\\anaconda3\\lib\\site-packages (from plotly) (8.2.2)\n"
     ]
    }
   ],
   "source": [
    "import pandas as pd\n",
    "import seaborn as sns #לגרפים\n",
    "!pip install plotly \n",
    "import plotly.express as px  #similar to seaborn\n",
    "import plotly.graph_objects as go #more complex and customizable\n",
    "import numpy as np #חישובים מתמטיים מטריצות וכו"
   ]
  },
  {
   "cell_type": "markdown",
   "id": "50ed61a7-574f-41e3-a3c9-587bb871e961",
   "metadata": {},
   "source": [
    "#### מידע על הדאטה\n",
    "להשלים פה. <br>נלקח מהקאגל [Kaggle](https://www.kaggle.com/datasets/lovishbansal123/engineering-graduate-salary)"
   ]
  },
  {
   "cell_type": "code",
   "execution_count": 446,
   "id": "7c5c1625-441d-4370-afa5-6d123e52fdb2",
   "metadata": {},
   "outputs": [
    {
     "data": {
      "text/plain": [
       "(2998, 34)"
      ]
     },
     "execution_count": 446,
     "metadata": {},
     "output_type": "execute_result"
    }
   ],
   "source": [
    "url = 'https://raw.githubusercontent.com/noyaks/Our-project/main/Engineering_graduate_salary.csv'\n",
    "pj = pd.read_csv(url)\n",
    "pj.shape"
   ]
  },
  {
   "cell_type": "code",
   "execution_count": 447,
   "id": "b63a2f50-5993-4e73-bda7-9988a36ce5d9",
   "metadata": {},
   "outputs": [
    {
     "data": {
      "text/plain": [
       "Index(['ID', 'Gender', 'DOB', '10percentage', '10board', '12graduation',\n",
       "       '12percentage', '12board', 'CollegeID', 'CollegeTier', 'Degree',\n",
       "       'Specialization', 'collegeGPA', 'CollegeCityID', 'CollegeCityTier',\n",
       "       'CollegeState', 'GraduationYear', 'English', 'Logical', 'Quant',\n",
       "       'Domain', 'ComputerProgramming', 'ElectronicsAndSemicon',\n",
       "       'ComputerScience', 'MechanicalEngg', 'ElectricalEngg', 'TelecomEngg',\n",
       "       'CivilEngg', 'conscientiousness', 'agreeableness', 'extraversion',\n",
       "       'nueroticism', 'openess_to_experience', 'Salary'],\n",
       "      dtype='object')"
      ]
     },
     "execution_count": 447,
     "metadata": {},
     "output_type": "execute_result"
    }
   ],
   "source": [
    "pj.columns"
   ]
  },
  {
   "cell_type": "code",
   "execution_count": 448,
   "id": "24dd5092-12ed-4672-b2f9-27aa005c885a",
   "metadata": {},
   "outputs": [
    {
     "data": {
      "text/plain": [
       "(2998, 34)"
      ]
     },
     "execution_count": 448,
     "metadata": {},
     "output_type": "execute_result"
    }
   ],
   "source": [
    "pj.drop_duplicates(subset=['ID', 'Gender', 'DOB', '10percentage', '10board', '12graduation',\n",
    "                           '12percentage', '12board', 'CollegeID', 'CollegeTier', 'Degree',\n",
    "                           'Specialization', 'collegeGPA', 'CollegeCityID', 'CollegeCityTier',\n",
    "                           'CollegeState', 'GraduationYear', 'English', 'Logical', 'Quant',\n",
    "                           'Domain', 'ComputerProgramming', 'ElectronicsAndSemicon',\n",
    "                           'ComputerScience', 'MechanicalEngg', 'ElectricalEngg', 'TelecomEngg',\n",
    "                           'CivilEngg', 'conscientiousness', 'agreeableness', 'extraversion',\n",
    "                           'nueroticism', 'openess_to_experience', 'Salary'], inplace=True)\n",
    "pj.shape\n",
    "# מוחק לגמרי שורות כפולות מהקובץ. אין לנו"
   ]
  },
  {
   "cell_type": "code",
   "execution_count": 449,
   "id": "c3d69bc2-611f-4eb8-b167-2b5a8b8fed1e",
   "metadata": {},
   "outputs": [
    {
     "data": {
      "text/html": [
       "<div>\n",
       "<style scoped>\n",
       "    .dataframe tbody tr th:only-of-type {\n",
       "        vertical-align: middle;\n",
       "    }\n",
       "\n",
       "    .dataframe tbody tr th {\n",
       "        vertical-align: top;\n",
       "    }\n",
       "\n",
       "    .dataframe thead th {\n",
       "        text-align: right;\n",
       "    }\n",
       "</style>\n",
       "<table border=\"1\" class=\"dataframe\">\n",
       "  <thead>\n",
       "    <tr style=\"text-align: right;\">\n",
       "      <th></th>\n",
       "      <th>ID</th>\n",
       "      <th>Gender</th>\n",
       "      <th>DOB</th>\n",
       "      <th>10percentage</th>\n",
       "      <th>10board</th>\n",
       "      <th>12graduation</th>\n",
       "      <th>12percentage</th>\n",
       "      <th>12board</th>\n",
       "      <th>CollegeID</th>\n",
       "      <th>CollegeTier</th>\n",
       "      <th>...</th>\n",
       "      <th>MechanicalEngg</th>\n",
       "      <th>ElectricalEngg</th>\n",
       "      <th>TelecomEngg</th>\n",
       "      <th>CivilEngg</th>\n",
       "      <th>conscientiousness</th>\n",
       "      <th>agreeableness</th>\n",
       "      <th>extraversion</th>\n",
       "      <th>nueroticism</th>\n",
       "      <th>openess_to_experience</th>\n",
       "      <th>Salary</th>\n",
       "    </tr>\n",
       "  </thead>\n",
       "  <tbody>\n",
       "    <tr>\n",
       "      <th>0</th>\n",
       "      <td>604399</td>\n",
       "      <td>f</td>\n",
       "      <td>1990-10-22</td>\n",
       "      <td>87.80</td>\n",
       "      <td>cbse</td>\n",
       "      <td>2009</td>\n",
       "      <td>84.00</td>\n",
       "      <td>cbse</td>\n",
       "      <td>6920</td>\n",
       "      <td>1</td>\n",
       "      <td>...</td>\n",
       "      <td>-1</td>\n",
       "      <td>-1</td>\n",
       "      <td>-1</td>\n",
       "      <td>-1</td>\n",
       "      <td>-0.1590</td>\n",
       "      <td>0.3789</td>\n",
       "      <td>1.2396</td>\n",
       "      <td>0.14590</td>\n",
       "      <td>0.2889</td>\n",
       "      <td>445000</td>\n",
       "    </tr>\n",
       "    <tr>\n",
       "      <th>1</th>\n",
       "      <td>988334</td>\n",
       "      <td>m</td>\n",
       "      <td>1990-05-15</td>\n",
       "      <td>57.00</td>\n",
       "      <td>cbse</td>\n",
       "      <td>2010</td>\n",
       "      <td>64.50</td>\n",
       "      <td>cbse</td>\n",
       "      <td>6624</td>\n",
       "      <td>2</td>\n",
       "      <td>...</td>\n",
       "      <td>-1</td>\n",
       "      <td>-1</td>\n",
       "      <td>-1</td>\n",
       "      <td>-1</td>\n",
       "      <td>1.1336</td>\n",
       "      <td>0.0459</td>\n",
       "      <td>1.2396</td>\n",
       "      <td>0.52620</td>\n",
       "      <td>-0.2859</td>\n",
       "      <td>110000</td>\n",
       "    </tr>\n",
       "    <tr>\n",
       "      <th>2</th>\n",
       "      <td>301647</td>\n",
       "      <td>m</td>\n",
       "      <td>1989-08-21</td>\n",
       "      <td>77.33</td>\n",
       "      <td>maharashtra state board,pune</td>\n",
       "      <td>2007</td>\n",
       "      <td>85.17</td>\n",
       "      <td>amravati divisional board</td>\n",
       "      <td>9084</td>\n",
       "      <td>2</td>\n",
       "      <td>...</td>\n",
       "      <td>-1</td>\n",
       "      <td>-1</td>\n",
       "      <td>260</td>\n",
       "      <td>-1</td>\n",
       "      <td>0.5100</td>\n",
       "      <td>-0.1232</td>\n",
       "      <td>1.5428</td>\n",
       "      <td>-0.29020</td>\n",
       "      <td>-0.2875</td>\n",
       "      <td>255000</td>\n",
       "    </tr>\n",
       "    <tr>\n",
       "      <th>3</th>\n",
       "      <td>582313</td>\n",
       "      <td>m</td>\n",
       "      <td>1991-05-04</td>\n",
       "      <td>84.30</td>\n",
       "      <td>cbse</td>\n",
       "      <td>2009</td>\n",
       "      <td>86.00</td>\n",
       "      <td>cbse</td>\n",
       "      <td>8195</td>\n",
       "      <td>1</td>\n",
       "      <td>...</td>\n",
       "      <td>-1</td>\n",
       "      <td>-1</td>\n",
       "      <td>-1</td>\n",
       "      <td>-1</td>\n",
       "      <td>-0.4463</td>\n",
       "      <td>0.2124</td>\n",
       "      <td>0.3174</td>\n",
       "      <td>0.27270</td>\n",
       "      <td>0.4805</td>\n",
       "      <td>420000</td>\n",
       "    </tr>\n",
       "    <tr>\n",
       "      <th>4</th>\n",
       "      <td>339001</td>\n",
       "      <td>f</td>\n",
       "      <td>1990-10-30</td>\n",
       "      <td>82.00</td>\n",
       "      <td>cbse</td>\n",
       "      <td>2008</td>\n",
       "      <td>75.00</td>\n",
       "      <td>cbse</td>\n",
       "      <td>4889</td>\n",
       "      <td>2</td>\n",
       "      <td>...</td>\n",
       "      <td>-1</td>\n",
       "      <td>-1</td>\n",
       "      <td>-1</td>\n",
       "      <td>-1</td>\n",
       "      <td>-1.4992</td>\n",
       "      <td>-0.7473</td>\n",
       "      <td>-1.0697</td>\n",
       "      <td>0.06223</td>\n",
       "      <td>0.1864</td>\n",
       "      <td>200000</td>\n",
       "    </tr>\n",
       "    <tr>\n",
       "      <th>...</th>\n",
       "      <td>...</td>\n",
       "      <td>...</td>\n",
       "      <td>...</td>\n",
       "      <td>...</td>\n",
       "      <td>...</td>\n",
       "      <td>...</td>\n",
       "      <td>...</td>\n",
       "      <td>...</td>\n",
       "      <td>...</td>\n",
       "      <td>...</td>\n",
       "      <td>...</td>\n",
       "      <td>...</td>\n",
       "      <td>...</td>\n",
       "      <td>...</td>\n",
       "      <td>...</td>\n",
       "      <td>...</td>\n",
       "      <td>...</td>\n",
       "      <td>...</td>\n",
       "      <td>...</td>\n",
       "      <td>...</td>\n",
       "      <td>...</td>\n",
       "    </tr>\n",
       "    <tr>\n",
       "      <th>2993</th>\n",
       "      <td>103174</td>\n",
       "      <td>f</td>\n",
       "      <td>1989-04-17</td>\n",
       "      <td>75.00</td>\n",
       "      <td>0</td>\n",
       "      <td>2005</td>\n",
       "      <td>73.00</td>\n",
       "      <td>0</td>\n",
       "      <td>1263</td>\n",
       "      <td>2</td>\n",
       "      <td>...</td>\n",
       "      <td>-1</td>\n",
       "      <td>-1</td>\n",
       "      <td>-1</td>\n",
       "      <td>-1</td>\n",
       "      <td>-1.1901</td>\n",
       "      <td>0.9688</td>\n",
       "      <td>-1.0697</td>\n",
       "      <td>1.35490</td>\n",
       "      <td>0.0284</td>\n",
       "      <td>120000</td>\n",
       "    </tr>\n",
       "    <tr>\n",
       "      <th>2994</th>\n",
       "      <td>352811</td>\n",
       "      <td>f</td>\n",
       "      <td>1991-07-22</td>\n",
       "      <td>84.00</td>\n",
       "      <td>state board</td>\n",
       "      <td>2008</td>\n",
       "      <td>77.00</td>\n",
       "      <td>state board</td>\n",
       "      <td>9481</td>\n",
       "      <td>2</td>\n",
       "      <td>...</td>\n",
       "      <td>-1</td>\n",
       "      <td>-1</td>\n",
       "      <td>-1</td>\n",
       "      <td>-1</td>\n",
       "      <td>-0.1082</td>\n",
       "      <td>0.0328</td>\n",
       "      <td>-0.4891</td>\n",
       "      <td>-0.29020</td>\n",
       "      <td>0.5024</td>\n",
       "      <td>120000</td>\n",
       "    </tr>\n",
       "    <tr>\n",
       "      <th>2995</th>\n",
       "      <td>287070</td>\n",
       "      <td>m</td>\n",
       "      <td>1988-11-24</td>\n",
       "      <td>91.40</td>\n",
       "      <td>bsemp</td>\n",
       "      <td>2006</td>\n",
       "      <td>65.56</td>\n",
       "      <td>bsemp</td>\n",
       "      <td>547</td>\n",
       "      <td>2</td>\n",
       "      <td>...</td>\n",
       "      <td>-1</td>\n",
       "      <td>-1</td>\n",
       "      <td>-1</td>\n",
       "      <td>-1</td>\n",
       "      <td>-0.8810</td>\n",
       "      <td>0.1888</td>\n",
       "      <td>-0.3440</td>\n",
       "      <td>0.06230</td>\n",
       "      <td>0.6603</td>\n",
       "      <td>385000</td>\n",
       "    </tr>\n",
       "    <tr>\n",
       "      <th>2996</th>\n",
       "      <td>317336</td>\n",
       "      <td>m</td>\n",
       "      <td>1988-08-25</td>\n",
       "      <td>88.64</td>\n",
       "      <td>karnataka education board</td>\n",
       "      <td>2006</td>\n",
       "      <td>65.16</td>\n",
       "      <td>karnataka education board</td>\n",
       "      <td>1629</td>\n",
       "      <td>2</td>\n",
       "      <td>...</td>\n",
       "      <td>-1</td>\n",
       "      <td>-1</td>\n",
       "      <td>-1</td>\n",
       "      <td>-1</td>\n",
       "      <td>1.4374</td>\n",
       "      <td>1.2808</td>\n",
       "      <td>-0.4891</td>\n",
       "      <td>-1.46537</td>\n",
       "      <td>0.5419</td>\n",
       "      <td>530000</td>\n",
       "    </tr>\n",
       "    <tr>\n",
       "      <th>2997</th>\n",
       "      <td>993701</td>\n",
       "      <td>m</td>\n",
       "      <td>1992-05-27</td>\n",
       "      <td>77.00</td>\n",
       "      <td>state board</td>\n",
       "      <td>2009</td>\n",
       "      <td>75.50</td>\n",
       "      <td>state board</td>\n",
       "      <td>1111</td>\n",
       "      <td>2</td>\n",
       "      <td>...</td>\n",
       "      <td>-1</td>\n",
       "      <td>-1</td>\n",
       "      <td>-1</td>\n",
       "      <td>-1</td>\n",
       "      <td>-0.5899</td>\n",
       "      <td>-1.9521</td>\n",
       "      <td>0.3174</td>\n",
       "      <td>1.16010</td>\n",
       "      <td>-2.3937</td>\n",
       "      <td>200000</td>\n",
       "    </tr>\n",
       "  </tbody>\n",
       "</table>\n",
       "<p>2998 rows × 34 columns</p>\n",
       "</div>"
      ],
      "text/plain": [
       "          ID Gender         DOB  10percentage                       10board  \\\n",
       "0     604399      f  1990-10-22         87.80                          cbse   \n",
       "1     988334      m  1990-05-15         57.00                          cbse   \n",
       "2     301647      m  1989-08-21         77.33  maharashtra state board,pune   \n",
       "3     582313      m  1991-05-04         84.30                          cbse   \n",
       "4     339001      f  1990-10-30         82.00                          cbse   \n",
       "...      ...    ...         ...           ...                           ...   \n",
       "2993  103174      f  1989-04-17         75.00                             0   \n",
       "2994  352811      f  1991-07-22         84.00                   state board   \n",
       "2995  287070      m  1988-11-24         91.40                         bsemp   \n",
       "2996  317336      m  1988-08-25         88.64     karnataka education board   \n",
       "2997  993701      m  1992-05-27         77.00                   state board   \n",
       "\n",
       "      12graduation  12percentage                    12board  CollegeID  \\\n",
       "0             2009         84.00                       cbse       6920   \n",
       "1             2010         64.50                       cbse       6624   \n",
       "2             2007         85.17  amravati divisional board       9084   \n",
       "3             2009         86.00                       cbse       8195   \n",
       "4             2008         75.00                       cbse       4889   \n",
       "...            ...           ...                        ...        ...   \n",
       "2993          2005         73.00                          0       1263   \n",
       "2994          2008         77.00                state board       9481   \n",
       "2995          2006         65.56                      bsemp        547   \n",
       "2996          2006         65.16  karnataka education board       1629   \n",
       "2997          2009         75.50                state board       1111   \n",
       "\n",
       "      CollegeTier  ... MechanicalEngg ElectricalEngg  TelecomEngg  CivilEngg  \\\n",
       "0               1  ...             -1             -1           -1         -1   \n",
       "1               2  ...             -1             -1           -1         -1   \n",
       "2               2  ...             -1             -1          260         -1   \n",
       "3               1  ...             -1             -1           -1         -1   \n",
       "4               2  ...             -1             -1           -1         -1   \n",
       "...           ...  ...            ...            ...          ...        ...   \n",
       "2993            2  ...             -1             -1           -1         -1   \n",
       "2994            2  ...             -1             -1           -1         -1   \n",
       "2995            2  ...             -1             -1           -1         -1   \n",
       "2996            2  ...             -1             -1           -1         -1   \n",
       "2997            2  ...             -1             -1           -1         -1   \n",
       "\n",
       "      conscientiousness agreeableness  extraversion  nueroticism  \\\n",
       "0               -0.1590        0.3789        1.2396      0.14590   \n",
       "1                1.1336        0.0459        1.2396      0.52620   \n",
       "2                0.5100       -0.1232        1.5428     -0.29020   \n",
       "3               -0.4463        0.2124        0.3174      0.27270   \n",
       "4               -1.4992       -0.7473       -1.0697      0.06223   \n",
       "...                 ...           ...           ...          ...   \n",
       "2993            -1.1901        0.9688       -1.0697      1.35490   \n",
       "2994            -0.1082        0.0328       -0.4891     -0.29020   \n",
       "2995            -0.8810        0.1888       -0.3440      0.06230   \n",
       "2996             1.4374        1.2808       -0.4891     -1.46537   \n",
       "2997            -0.5899       -1.9521        0.3174      1.16010   \n",
       "\n",
       "      openess_to_experience  Salary  \n",
       "0                    0.2889  445000  \n",
       "1                   -0.2859  110000  \n",
       "2                   -0.2875  255000  \n",
       "3                    0.4805  420000  \n",
       "4                    0.1864  200000  \n",
       "...                     ...     ...  \n",
       "2993                 0.0284  120000  \n",
       "2994                 0.5024  120000  \n",
       "2995                 0.6603  385000  \n",
       "2996                 0.5419  530000  \n",
       "2997                -2.3937  200000  \n",
       "\n",
       "[2998 rows x 34 columns]"
      ]
     },
     "execution_count": 449,
     "metadata": {},
     "output_type": "execute_result"
    }
   ],
   "source": [
    "pj"
   ]
  },
  {
   "cell_type": "code",
   "execution_count": 450,
   "id": "3aafb5f2-ad6f-4749-a2f5-941eafa9bc2e",
   "metadata": {},
   "outputs": [
    {
     "name": "stdout",
     "output_type": "stream",
     "text": [
      "<class 'pandas.core.frame.DataFrame'>\n",
      "RangeIndex: 2998 entries, 0 to 2997\n",
      "Data columns (total 34 columns):\n",
      " #   Column                 Non-Null Count  Dtype  \n",
      "---  ------                 --------------  -----  \n",
      " 0   ID                     2998 non-null   int64  \n",
      " 1   Gender                 2998 non-null   object \n",
      " 2   DOB                    2998 non-null   object \n",
      " 3   10percentage           2998 non-null   float64\n",
      " 4   10board                2998 non-null   object \n",
      " 5   12graduation           2998 non-null   int64  \n",
      " 6   12percentage           2998 non-null   float64\n",
      " 7   12board                2998 non-null   object \n",
      " 8   CollegeID              2998 non-null   int64  \n",
      " 9   CollegeTier            2998 non-null   int64  \n",
      " 10  Degree                 2998 non-null   object \n",
      " 11  Specialization         2998 non-null   object \n",
      " 12  collegeGPA             2998 non-null   float64\n",
      " 13  CollegeCityID          2998 non-null   int64  \n",
      " 14  CollegeCityTier        2998 non-null   int64  \n",
      " 15  CollegeState           2998 non-null   object \n",
      " 16  GraduationYear         2998 non-null   int64  \n",
      " 17  English                2998 non-null   int64  \n",
      " 18  Logical                2998 non-null   int64  \n",
      " 19  Quant                  2998 non-null   int64  \n",
      " 20  Domain                 2998 non-null   float64\n",
      " 21  ComputerProgramming    2998 non-null   int64  \n",
      " 22  ElectronicsAndSemicon  2998 non-null   int64  \n",
      " 23  ComputerScience        2998 non-null   int64  \n",
      " 24  MechanicalEngg         2998 non-null   int64  \n",
      " 25  ElectricalEngg         2998 non-null   int64  \n",
      " 26  TelecomEngg            2998 non-null   int64  \n",
      " 27  CivilEngg              2998 non-null   int64  \n",
      " 28  conscientiousness      2998 non-null   float64\n",
      " 29  agreeableness          2998 non-null   float64\n",
      " 30  extraversion           2998 non-null   float64\n",
      " 31  nueroticism            2998 non-null   float64\n",
      " 32  openess_to_experience  2998 non-null   float64\n",
      " 33  Salary                 2998 non-null   int64  \n",
      "dtypes: float64(9), int64(18), object(7)\n",
      "memory usage: 796.5+ KB\n"
     ]
    }
   ],
   "source": [
    "pj.info()"
   ]
  },
  {
   "cell_type": "code",
   "execution_count": 451,
   "id": "cde14559-0d4b-4823-a590-06d303a008cb",
   "metadata": {},
   "outputs": [
    {
     "data": {
      "text/html": [
       "<div>\n",
       "<style scoped>\n",
       "    .dataframe tbody tr th:only-of-type {\n",
       "        vertical-align: middle;\n",
       "    }\n",
       "\n",
       "    .dataframe tbody tr th {\n",
       "        vertical-align: top;\n",
       "    }\n",
       "\n",
       "    .dataframe thead th {\n",
       "        text-align: right;\n",
       "    }\n",
       "</style>\n",
       "<table border=\"1\" class=\"dataframe\">\n",
       "  <thead>\n",
       "    <tr style=\"text-align: right;\">\n",
       "      <th></th>\n",
       "      <th>ID</th>\n",
       "      <th>Gender</th>\n",
       "      <th>DOB</th>\n",
       "      <th>10percentage</th>\n",
       "      <th>10board</th>\n",
       "      <th>12graduation</th>\n",
       "      <th>12percentage</th>\n",
       "      <th>12board</th>\n",
       "      <th>CollegeID</th>\n",
       "      <th>CollegeTier</th>\n",
       "      <th>...</th>\n",
       "      <th>MechanicalEngg</th>\n",
       "      <th>ElectricalEngg</th>\n",
       "      <th>TelecomEngg</th>\n",
       "      <th>CivilEngg</th>\n",
       "      <th>conscientiousness</th>\n",
       "      <th>agreeableness</th>\n",
       "      <th>extraversion</th>\n",
       "      <th>nueroticism</th>\n",
       "      <th>openess_to_experience</th>\n",
       "      <th>Salary</th>\n",
       "    </tr>\n",
       "  </thead>\n",
       "  <tbody>\n",
       "  </tbody>\n",
       "</table>\n",
       "<p>0 rows × 34 columns</p>\n",
       "</div>"
      ],
      "text/plain": [
       "Empty DataFrame\n",
       "Columns: [ID, Gender, DOB, 10percentage, 10board, 12graduation, 12percentage, 12board, CollegeID, CollegeTier, Degree, Specialization, collegeGPA, CollegeCityID, CollegeCityTier, CollegeState, GraduationYear, English, Logical, Quant, Domain, ComputerProgramming, ElectronicsAndSemicon, ComputerScience, MechanicalEngg, ElectricalEngg, TelecomEngg, CivilEngg, conscientiousness, agreeableness, extraversion, nueroticism, openess_to_experience, Salary]\n",
       "Index: []\n",
       "\n",
       "[0 rows x 34 columns]"
      ]
     },
     "execution_count": 451,
     "metadata": {},
     "output_type": "execute_result"
    }
   ],
   "source": [
    "# בדיקה של ערכים חסרים כנוט או נאל- אין\n",
    "missing_location = pj[pj.isnull().any(axis=1)]  # האקזיס 1 אומר על שורות, 0 עמודות\n",
    "missing_location\n",
    "#pj.isnull().sum()"
   ]
  },
  {
   "cell_type": "code",
   "execution_count": 452,
   "id": "5f47152d-7d66-4491-bf2b-2f3099c8d9fd",
   "metadata": {},
   "outputs": [
    {
     "data": {
      "text/plain": [
       "ID                         0\n",
       "Gender                     0\n",
       "DOB                        0\n",
       "10percentage               0\n",
       "10board                  256\n",
       "12graduation               0\n",
       "12percentage               0\n",
       "12board                  264\n",
       "CollegeID                  0\n",
       "CollegeTier                0\n",
       "Degree                     0\n",
       "Specialization             0\n",
       "collegeGPA                 0\n",
       "CollegeCityID              0\n",
       "CollegeCityTier            0\n",
       "CollegeState               0\n",
       "GraduationYear             0\n",
       "English                    0\n",
       "Logical                    0\n",
       "Quant                      0\n",
       "Domain                     0\n",
       "ComputerProgramming        0\n",
       "ElectronicsAndSemicon      0\n",
       "ComputerScience            0\n",
       "MechanicalEngg             0\n",
       "ElectricalEngg             0\n",
       "TelecomEngg                0\n",
       "CivilEngg                  0\n",
       "conscientiousness          0\n",
       "agreeableness              0\n",
       "extraversion               0\n",
       "nueroticism                0\n",
       "openess_to_experience      0\n",
       "Salary                     0\n",
       "dtype: int64"
      ]
     },
     "execution_count": 452,
     "metadata": {},
     "output_type": "execute_result"
    }
   ],
   "source": [
    "# למצוא מספר שורות שרשום בהן 0 כערך\n",
    "value_is_strzero = (pj == \"0\").sum()\n",
    "value_is_strzero"
   ]
  },
  {
   "cell_type": "code",
   "execution_count": 453,
   "id": "6db40e90-9791-42e7-a5f2-e90506972e8c",
   "metadata": {},
   "outputs": [
    {
     "data": {
      "text/plain": [
       "ID                          0\n",
       "Gender                      0\n",
       "DOB                         0\n",
       "10percentage                0\n",
       "10board                     0\n",
       "12graduation                0\n",
       "12percentage                0\n",
       "12board                     0\n",
       "CollegeID                   0\n",
       "CollegeTier                 0\n",
       "Degree                      0\n",
       "Specialization              0\n",
       "collegeGPA                  0\n",
       "CollegeCityID               0\n",
       "CollegeCityTier          2110\n",
       "CollegeState                0\n",
       "GraduationYear              1\n",
       "English                     0\n",
       "Logical                     0\n",
       "Quant                       0\n",
       "Domain                      0\n",
       "ComputerProgramming         0\n",
       "ElectronicsAndSemicon       0\n",
       "ComputerScience             0\n",
       "MechanicalEngg              0\n",
       "ElectricalEngg              0\n",
       "TelecomEngg                 0\n",
       "CivilEngg                   0\n",
       "conscientiousness           0\n",
       "agreeableness               0\n",
       "extraversion                0\n",
       "nueroticism                 0\n",
       "openess_to_experience       0\n",
       "Salary                      0\n",
       "dtype: int64"
      ]
     },
     "execution_count": 453,
     "metadata": {},
     "output_type": "execute_result"
    }
   ],
   "source": [
    "# ערכים חסרים כאינט כנראה בינארי ואחד שהתפלק\n",
    "value_is_intzero = (pj == 0).sum()\n",
    "value_is_intzero"
   ]
  },
  {
   "cell_type": "markdown",
   "id": "25ab754b-f5ab-4ee2-8fbe-bac21999f03e",
   "metadata": {},
   "source": [
    "---\n",
    "## 1.  Focus on a all of the data\n",
    "---"
   ]
  },
  {
   "cell_type": "code",
   "execution_count": 454,
   "id": "383cc37a-f94a-4164-a004-0d9364d13949",
   "metadata": {},
   "outputs": [
    {
     "data": {
      "text/html": [
       "<div>\n",
       "<style scoped>\n",
       "    .dataframe tbody tr th:only-of-type {\n",
       "        vertical-align: middle;\n",
       "    }\n",
       "\n",
       "    .dataframe tbody tr th {\n",
       "        vertical-align: top;\n",
       "    }\n",
       "\n",
       "    .dataframe thead th {\n",
       "        text-align: right;\n",
       "    }\n",
       "</style>\n",
       "<table border=\"1\" class=\"dataframe\">\n",
       "  <thead>\n",
       "    <tr style=\"text-align: right;\">\n",
       "      <th></th>\n",
       "      <th>count</th>\n",
       "      <th>mean</th>\n",
       "      <th>std</th>\n",
       "      <th>min</th>\n",
       "      <th>25%</th>\n",
       "      <th>50%</th>\n",
       "      <th>75%</th>\n",
       "      <th>max</th>\n",
       "    </tr>\n",
       "  </thead>\n",
       "  <tbody>\n",
       "    <tr>\n",
       "      <th>ID</th>\n",
       "      <td>2998.0</td>\n",
       "      <td>664892.583389</td>\n",
       "      <td>364895.076716</td>\n",
       "      <td>11244.0000</td>\n",
       "      <td>333464.750000</td>\n",
       "      <td>639694.500000</td>\n",
       "      <td>995177.000000</td>\n",
       "      <td>1.297877e+06</td>\n",
       "    </tr>\n",
       "    <tr>\n",
       "      <th>10percentage</th>\n",
       "      <td>2998.0</td>\n",
       "      <td>77.666264</td>\n",
       "      <td>10.002785</td>\n",
       "      <td>43.0000</td>\n",
       "      <td>71.140000</td>\n",
       "      <td>78.965000</td>\n",
       "      <td>85.600000</td>\n",
       "      <td>9.776000e+01</td>\n",
       "    </tr>\n",
       "    <tr>\n",
       "      <th>12graduation</th>\n",
       "      <td>2998.0</td>\n",
       "      <td>2008.080720</td>\n",
       "      <td>1.631814</td>\n",
       "      <td>1998.0000</td>\n",
       "      <td>2007.000000</td>\n",
       "      <td>2008.000000</td>\n",
       "      <td>2009.000000</td>\n",
       "      <td>2.012000e+03</td>\n",
       "    </tr>\n",
       "    <tr>\n",
       "      <th>12percentage</th>\n",
       "      <td>2998.0</td>\n",
       "      <td>74.341061</td>\n",
       "      <td>11.120299</td>\n",
       "      <td>40.0000</td>\n",
       "      <td>66.000000</td>\n",
       "      <td>74.000000</td>\n",
       "      <td>82.600000</td>\n",
       "      <td>9.870000e+01</td>\n",
       "    </tr>\n",
       "    <tr>\n",
       "      <th>CollegeID</th>\n",
       "      <td>2998.0</td>\n",
       "      <td>5210.210807</td>\n",
       "      <td>4776.609877</td>\n",
       "      <td>2.0000</td>\n",
       "      <td>526.250000</td>\n",
       "      <td>4027.500000</td>\n",
       "      <td>8822.250000</td>\n",
       "      <td>1.840900e+04</td>\n",
       "    </tr>\n",
       "    <tr>\n",
       "      <th>CollegeTier</th>\n",
       "      <td>2998.0</td>\n",
       "      <td>1.924616</td>\n",
       "      <td>0.264053</td>\n",
       "      <td>1.0000</td>\n",
       "      <td>2.000000</td>\n",
       "      <td>2.000000</td>\n",
       "      <td>2.000000</td>\n",
       "      <td>2.000000e+00</td>\n",
       "    </tr>\n",
       "    <tr>\n",
       "      <th>collegeGPA</th>\n",
       "      <td>2998.0</td>\n",
       "      <td>71.509857</td>\n",
       "      <td>8.122462</td>\n",
       "      <td>6.6300</td>\n",
       "      <td>66.530000</td>\n",
       "      <td>71.800000</td>\n",
       "      <td>76.300000</td>\n",
       "      <td>9.993000e+01</td>\n",
       "    </tr>\n",
       "    <tr>\n",
       "      <th>CollegeCityID</th>\n",
       "      <td>2998.0</td>\n",
       "      <td>5210.210807</td>\n",
       "      <td>4776.609877</td>\n",
       "      <td>2.0000</td>\n",
       "      <td>526.250000</td>\n",
       "      <td>4027.500000</td>\n",
       "      <td>8822.250000</td>\n",
       "      <td>1.840900e+04</td>\n",
       "    </tr>\n",
       "    <tr>\n",
       "      <th>CollegeCityTier</th>\n",
       "      <td>2998.0</td>\n",
       "      <td>0.296197</td>\n",
       "      <td>0.456655</td>\n",
       "      <td>0.0000</td>\n",
       "      <td>0.000000</td>\n",
       "      <td>0.000000</td>\n",
       "      <td>1.000000</td>\n",
       "      <td>1.000000e+00</td>\n",
       "    </tr>\n",
       "    <tr>\n",
       "      <th>GraduationYear</th>\n",
       "      <td>2998.0</td>\n",
       "      <td>2011.939960</td>\n",
       "      <td>36.780582</td>\n",
       "      <td>0.0000</td>\n",
       "      <td>2012.000000</td>\n",
       "      <td>2013.000000</td>\n",
       "      <td>2014.000000</td>\n",
       "      <td>2.017000e+03</td>\n",
       "    </tr>\n",
       "    <tr>\n",
       "      <th>English</th>\n",
       "      <td>2998.0</td>\n",
       "      <td>501.066378</td>\n",
       "      <td>105.304512</td>\n",
       "      <td>180.0000</td>\n",
       "      <td>425.000000</td>\n",
       "      <td>500.000000</td>\n",
       "      <td>570.000000</td>\n",
       "      <td>8.750000e+02</td>\n",
       "    </tr>\n",
       "    <tr>\n",
       "      <th>Logical</th>\n",
       "      <td>2998.0</td>\n",
       "      <td>500.431621</td>\n",
       "      <td>87.299850</td>\n",
       "      <td>195.0000</td>\n",
       "      <td>441.250000</td>\n",
       "      <td>505.000000</td>\n",
       "      <td>565.000000</td>\n",
       "      <td>7.950000e+02</td>\n",
       "    </tr>\n",
       "    <tr>\n",
       "      <th>Quant</th>\n",
       "      <td>2998.0</td>\n",
       "      <td>514.137759</td>\n",
       "      <td>122.194955</td>\n",
       "      <td>120.0000</td>\n",
       "      <td>430.000000</td>\n",
       "      <td>515.000000</td>\n",
       "      <td>595.000000</td>\n",
       "      <td>9.000000e+02</td>\n",
       "    </tr>\n",
       "    <tr>\n",
       "      <th>Domain</th>\n",
       "      <td>2998.0</td>\n",
       "      <td>0.508458</td>\n",
       "      <td>0.463373</td>\n",
       "      <td>-1.0000</td>\n",
       "      <td>0.342315</td>\n",
       "      <td>0.622643</td>\n",
       "      <td>0.835612</td>\n",
       "      <td>9.999104e-01</td>\n",
       "    </tr>\n",
       "    <tr>\n",
       "      <th>ComputerProgramming</th>\n",
       "      <td>2998.0</td>\n",
       "      <td>351.868579</td>\n",
       "      <td>204.526227</td>\n",
       "      <td>-1.0000</td>\n",
       "      <td>295.000000</td>\n",
       "      <td>415.000000</td>\n",
       "      <td>495.000000</td>\n",
       "      <td>8.040000e+02</td>\n",
       "    </tr>\n",
       "    <tr>\n",
       "      <th>ElectronicsAndSemicon</th>\n",
       "      <td>2998.0</td>\n",
       "      <td>96.228152</td>\n",
       "      <td>158.737747</td>\n",
       "      <td>-1.0000</td>\n",
       "      <td>-1.000000</td>\n",
       "      <td>-1.000000</td>\n",
       "      <td>233.000000</td>\n",
       "      <td>6.120000e+02</td>\n",
       "    </tr>\n",
       "    <tr>\n",
       "      <th>ComputerScience</th>\n",
       "      <td>2998.0</td>\n",
       "      <td>94.147098</td>\n",
       "      <td>177.784536</td>\n",
       "      <td>-1.0000</td>\n",
       "      <td>-1.000000</td>\n",
       "      <td>-1.000000</td>\n",
       "      <td>-1.000000</td>\n",
       "      <td>7.150000e+02</td>\n",
       "    </tr>\n",
       "    <tr>\n",
       "      <th>MechanicalEngg</th>\n",
       "      <td>2998.0</td>\n",
       "      <td>24.138759</td>\n",
       "      <td>99.785138</td>\n",
       "      <td>-1.0000</td>\n",
       "      <td>-1.000000</td>\n",
       "      <td>-1.000000</td>\n",
       "      <td>-1.000000</td>\n",
       "      <td>6.230000e+02</td>\n",
       "    </tr>\n",
       "    <tr>\n",
       "      <th>ElectricalEngg</th>\n",
       "      <td>2998.0</td>\n",
       "      <td>16.267845</td>\n",
       "      <td>86.054739</td>\n",
       "      <td>-1.0000</td>\n",
       "      <td>-1.000000</td>\n",
       "      <td>-1.000000</td>\n",
       "      <td>-1.000000</td>\n",
       "      <td>6.600000e+02</td>\n",
       "    </tr>\n",
       "    <tr>\n",
       "      <th>TelecomEngg</th>\n",
       "      <td>2998.0</td>\n",
       "      <td>31.068379</td>\n",
       "      <td>103.552963</td>\n",
       "      <td>-1.0000</td>\n",
       "      <td>-1.000000</td>\n",
       "      <td>-1.000000</td>\n",
       "      <td>-1.000000</td>\n",
       "      <td>5.480000e+02</td>\n",
       "    </tr>\n",
       "    <tr>\n",
       "      <th>CivilEngg</th>\n",
       "      <td>2998.0</td>\n",
       "      <td>1.946965</td>\n",
       "      <td>32.241501</td>\n",
       "      <td>-1.0000</td>\n",
       "      <td>-1.000000</td>\n",
       "      <td>-1.000000</td>\n",
       "      <td>-1.000000</td>\n",
       "      <td>5.000000e+02</td>\n",
       "    </tr>\n",
       "    <tr>\n",
       "      <th>conscientiousness</th>\n",
       "      <td>2998.0</td>\n",
       "      <td>-0.038714</td>\n",
       "      <td>1.024974</td>\n",
       "      <td>-3.8933</td>\n",
       "      <td>-0.649100</td>\n",
       "      <td>0.046400</td>\n",
       "      <td>0.702700</td>\n",
       "      <td>1.995300e+00</td>\n",
       "    </tr>\n",
       "    <tr>\n",
       "      <th>agreeableness</th>\n",
       "      <td>2998.0</td>\n",
       "      <td>0.126217</td>\n",
       "      <td>0.955831</td>\n",
       "      <td>-5.7816</td>\n",
       "      <td>-0.435300</td>\n",
       "      <td>0.212400</td>\n",
       "      <td>0.812800</td>\n",
       "      <td>1.904800e+00</td>\n",
       "    </tr>\n",
       "    <tr>\n",
       "      <th>extraversion</th>\n",
       "      <td>2998.0</td>\n",
       "      <td>-0.008662</td>\n",
       "      <td>0.962695</td>\n",
       "      <td>-4.6009</td>\n",
       "      <td>-0.604800</td>\n",
       "      <td>0.091400</td>\n",
       "      <td>0.672000</td>\n",
       "      <td>2.161700e+00</td>\n",
       "    </tr>\n",
       "    <tr>\n",
       "      <th>nueroticism</th>\n",
       "      <td>2998.0</td>\n",
       "      <td>-0.145965</td>\n",
       "      <td>1.012901</td>\n",
       "      <td>-2.6430</td>\n",
       "      <td>-0.868200</td>\n",
       "      <td>-0.172700</td>\n",
       "      <td>0.526200</td>\n",
       "      <td>3.352500e+00</td>\n",
       "    </tr>\n",
       "    <tr>\n",
       "      <th>openess_to_experience</th>\n",
       "      <td>2998.0</td>\n",
       "      <td>-0.141111</td>\n",
       "      <td>1.007134</td>\n",
       "      <td>-7.3757</td>\n",
       "      <td>-0.669200</td>\n",
       "      <td>-0.094300</td>\n",
       "      <td>0.502400</td>\n",
       "      <td>1.630200e+00</td>\n",
       "    </tr>\n",
       "    <tr>\n",
       "      <th>Salary</th>\n",
       "      <td>2998.0</td>\n",
       "      <td>305174.783189</td>\n",
       "      <td>212331.194145</td>\n",
       "      <td>35000.0000</td>\n",
       "      <td>180000.000000</td>\n",
       "      <td>300000.000000</td>\n",
       "      <td>370000.000000</td>\n",
       "      <td>4.000000e+06</td>\n",
       "    </tr>\n",
       "  </tbody>\n",
       "</table>\n",
       "</div>"
      ],
      "text/plain": [
       "                        count           mean            std         min  \\\n",
       "ID                     2998.0  664892.583389  364895.076716  11244.0000   \n",
       "10percentage           2998.0      77.666264      10.002785     43.0000   \n",
       "12graduation           2998.0    2008.080720       1.631814   1998.0000   \n",
       "12percentage           2998.0      74.341061      11.120299     40.0000   \n",
       "CollegeID              2998.0    5210.210807    4776.609877      2.0000   \n",
       "CollegeTier            2998.0       1.924616       0.264053      1.0000   \n",
       "collegeGPA             2998.0      71.509857       8.122462      6.6300   \n",
       "CollegeCityID          2998.0    5210.210807    4776.609877      2.0000   \n",
       "CollegeCityTier        2998.0       0.296197       0.456655      0.0000   \n",
       "GraduationYear         2998.0    2011.939960      36.780582      0.0000   \n",
       "English                2998.0     501.066378     105.304512    180.0000   \n",
       "Logical                2998.0     500.431621      87.299850    195.0000   \n",
       "Quant                  2998.0     514.137759     122.194955    120.0000   \n",
       "Domain                 2998.0       0.508458       0.463373     -1.0000   \n",
       "ComputerProgramming    2998.0     351.868579     204.526227     -1.0000   \n",
       "ElectronicsAndSemicon  2998.0      96.228152     158.737747     -1.0000   \n",
       "ComputerScience        2998.0      94.147098     177.784536     -1.0000   \n",
       "MechanicalEngg         2998.0      24.138759      99.785138     -1.0000   \n",
       "ElectricalEngg         2998.0      16.267845      86.054739     -1.0000   \n",
       "TelecomEngg            2998.0      31.068379     103.552963     -1.0000   \n",
       "CivilEngg              2998.0       1.946965      32.241501     -1.0000   \n",
       "conscientiousness      2998.0      -0.038714       1.024974     -3.8933   \n",
       "agreeableness          2998.0       0.126217       0.955831     -5.7816   \n",
       "extraversion           2998.0      -0.008662       0.962695     -4.6009   \n",
       "nueroticism            2998.0      -0.145965       1.012901     -2.6430   \n",
       "openess_to_experience  2998.0      -0.141111       1.007134     -7.3757   \n",
       "Salary                 2998.0  305174.783189  212331.194145  35000.0000   \n",
       "\n",
       "                                 25%            50%            75%  \\\n",
       "ID                     333464.750000  639694.500000  995177.000000   \n",
       "10percentage               71.140000      78.965000      85.600000   \n",
       "12graduation             2007.000000    2008.000000    2009.000000   \n",
       "12percentage               66.000000      74.000000      82.600000   \n",
       "CollegeID                 526.250000    4027.500000    8822.250000   \n",
       "CollegeTier                 2.000000       2.000000       2.000000   \n",
       "collegeGPA                 66.530000      71.800000      76.300000   \n",
       "CollegeCityID             526.250000    4027.500000    8822.250000   \n",
       "CollegeCityTier             0.000000       0.000000       1.000000   \n",
       "GraduationYear           2012.000000    2013.000000    2014.000000   \n",
       "English                   425.000000     500.000000     570.000000   \n",
       "Logical                   441.250000     505.000000     565.000000   \n",
       "Quant                     430.000000     515.000000     595.000000   \n",
       "Domain                      0.342315       0.622643       0.835612   \n",
       "ComputerProgramming       295.000000     415.000000     495.000000   \n",
       "ElectronicsAndSemicon      -1.000000      -1.000000     233.000000   \n",
       "ComputerScience            -1.000000      -1.000000      -1.000000   \n",
       "MechanicalEngg             -1.000000      -1.000000      -1.000000   \n",
       "ElectricalEngg             -1.000000      -1.000000      -1.000000   \n",
       "TelecomEngg                -1.000000      -1.000000      -1.000000   \n",
       "CivilEngg                  -1.000000      -1.000000      -1.000000   \n",
       "conscientiousness          -0.649100       0.046400       0.702700   \n",
       "agreeableness              -0.435300       0.212400       0.812800   \n",
       "extraversion               -0.604800       0.091400       0.672000   \n",
       "nueroticism                -0.868200      -0.172700       0.526200   \n",
       "openess_to_experience      -0.669200      -0.094300       0.502400   \n",
       "Salary                 180000.000000  300000.000000  370000.000000   \n",
       "\n",
       "                                max  \n",
       "ID                     1.297877e+06  \n",
       "10percentage           9.776000e+01  \n",
       "12graduation           2.012000e+03  \n",
       "12percentage           9.870000e+01  \n",
       "CollegeID              1.840900e+04  \n",
       "CollegeTier            2.000000e+00  \n",
       "collegeGPA             9.993000e+01  \n",
       "CollegeCityID          1.840900e+04  \n",
       "CollegeCityTier        1.000000e+00  \n",
       "GraduationYear         2.017000e+03  \n",
       "English                8.750000e+02  \n",
       "Logical                7.950000e+02  \n",
       "Quant                  9.000000e+02  \n",
       "Domain                 9.999104e-01  \n",
       "ComputerProgramming    8.040000e+02  \n",
       "ElectronicsAndSemicon  6.120000e+02  \n",
       "ComputerScience        7.150000e+02  \n",
       "MechanicalEngg         6.230000e+02  \n",
       "ElectricalEngg         6.600000e+02  \n",
       "TelecomEngg            5.480000e+02  \n",
       "CivilEngg              5.000000e+02  \n",
       "conscientiousness      1.995300e+00  \n",
       "agreeableness          1.904800e+00  \n",
       "extraversion           2.161700e+00  \n",
       "nueroticism            3.352500e+00  \n",
       "openess_to_experience  1.630200e+00  \n",
       "Salary                 4.000000e+06  "
      ]
     },
     "execution_count": 454,
     "metadata": {},
     "output_type": "execute_result"
    }
   ],
   "source": [
    "# סטטיסטיקות שקשורות לעמודות המספריות רק\n",
    "pj.describe().transpose()"
   ]
  },
  {
   "cell_type": "code",
   "execution_count": 455,
   "id": "f376aa08-c10f-443c-9304-69653a03e5ec",
   "metadata": {},
   "outputs": [
    {
     "data": {
      "text/plain": [
       "array(['Delhi', 'Uttar Pradesh', 'Maharashtra', 'Tamil Nadu', 'Punjab',\n",
       "       'West Bengal', 'Telangana', 'Andhra Pradesh', 'Haryana',\n",
       "       'Karnataka', 'Orissa', 'Chhattisgarh', 'Rajasthan',\n",
       "       'Madhya Pradesh', 'Uttarakhand', 'Gujarat', 'Jharkhand',\n",
       "       'Himachal Pradesh', 'Bihar', 'Union Territory',\n",
       "       'Jammu and Kashmir', 'Kerala', 'Assam', 'Sikkim', 'Meghalaya',\n",
       "       'Goa'], dtype=object)"
      ]
     },
     "execution_count": 455,
     "metadata": {},
     "output_type": "execute_result"
    }
   ],
   "source": [
    "# הסוגי ערים ללא כפילויות\n",
    "pj[\"CollegeState\"].unique()"
   ]
  },
  {
   "cell_type": "code",
   "execution_count": 456,
   "id": "2b73160c-ccb4-4e1f-ba26-666a43feb2cb",
   "metadata": {},
   "outputs": [],
   "source": [
    "# הבתי ספר שהם למדו בהם בכיתה י\n",
    "#pj[\"10board\"].unique()"
   ]
  },
  {
   "cell_type": "code",
   "execution_count": 457,
   "id": "13f4dbaa-3131-4fc5-b900-cb322f7f1e13",
   "metadata": {},
   "outputs": [
    {
     "data": {
      "text/plain": [
       "array(['B.Tech/B.E.', 'M.Tech./M.E.', 'MCA', 'M.Sc. (Tech.)'],\n",
       "      dtype=object)"
      ]
     },
     "execution_count": 457,
     "metadata": {},
     "output_type": "execute_result"
    }
   ],
   "source": [
    "Degree_Type = pj.Degree.unique()\n",
    "Degree_Type"
   ]
  },
  {
   "cell_type": "markdown",
   "id": "97f41788-810f-4782-a314-7b167b1c5fac",
   "metadata": {},
   "source": [
    "### מקרא\n",
    "B.Tech/B.E - תואר ראשון בהנדסה\n",
    "<br>M.Tech./M.E - תואר שני בהנדסה\n",
    "<br>(התמחויות ספצפיות בהנדסה בהמשך)\n",
    "<br>MCA - תואר ראשון במדעי המחשב וטכנולוגיה\n",
    "<br>M.Sc.(Tech.) - תואר שני במדעי המחשב וטכנולוגיה"
   ]
  },
  {
   "cell_type": "code",
   "execution_count": 458,
   "id": "daf14a03-3104-4d03-b6c6-0c255e43d31c",
   "metadata": {},
   "outputs": [
    {
     "name": "stdout",
     "output_type": "stream",
     "text": [
      "There are people with more than one specialization.\n"
     ]
    }
   ],
   "source": [
    "# להבין אם יש אנשים שעשו יותר מהתמחות אחת\n",
    "engineering_columns = ['ComputerProgramming', 'ElectronicsAndSemicon', 'ComputerScience', 'MechanicalEngg', 'ElectricalEngg', 'TelecomEngg', 'CivilEngg']\n",
    "\n",
    "specializations_matrix = (pj[engineering_columns] != -1).astype(int)\n",
    "specializations_count = specializations_matrix.sum(axis=1)\n",
    "more_than_one_specialization = specializations_count > 1\n",
    "\n",
    "if more_than_one_specialization.any():\n",
    "    print(\"There are people with more than one specialization.\")\n",
    "else:\n",
    "    print(\"There are no people with more than one specialization.\")"
   ]
  },
  {
   "cell_type": "code",
   "execution_count": 459,
   "id": "2443fb65-51a3-4198-bba5-39f6afbea87a",
   "metadata": {},
   "outputs": [],
   "source": [
    "# אם בא לנו להוסיף כמה התמחויות כל אחד עשה "
   ]
  },
  {
   "cell_type": "code",
   "execution_count": 460,
   "id": "b429ca1f-8581-4df2-8a89-aeef73372ced",
   "metadata": {},
   "outputs": [
    {
     "data": {
      "text/plain": [
       "42"
      ]
     },
     "execution_count": 460,
     "metadata": {},
     "output_type": "execute_result"
    }
   ],
   "source": [
    "len(pj.Specialization.unique())"
   ]
  },
  {
   "cell_type": "code",
   "execution_count": 461,
   "id": "6ebde680-99f2-4032-9686-ae87e3b1deb4",
   "metadata": {},
   "outputs": [],
   "source": [
    "# היסטוגרמה של כל ההתמחויות\n",
    "#plt.figure(figsize=(15,10))\n",
    "#sns.countplot(x=pj['Specialization'])\n",
    "#plt.xticks(rotation=90)\n",
    "#plt.show()"
   ]
  },
  {
   "cell_type": "code",
   "execution_count": 462,
   "id": "0c0eee6a-7ffa-4497-bca2-e72fb88e0d94",
   "metadata": {},
   "outputs": [],
   "source": [
    "# ספירת ההתמחויות\n",
    "#specialization_counts = pj['Specialization'].value_counts()\n",
    "\n",
    "# סינון התמחויות עם יותר מ-100 אנשים\n",
    "#specializations_above_100 = specialization_counts[specialization_counts > 100].index\n",
    "\n",
    "# סינון הדאטה בהתאם להתמחויות מעלה \n",
    "#filtered_data = pj[pj['Specialization'].isin(specializations_above_100)]\n",
    "\n",
    "# יצירת היסטוגרמה של ההתמחויות\n",
    "#plt.figure(figsize=(5, 5))\n",
    "#sns.countplot(x='Specialization', data=filtered_data, palette='viridis')  # פלטה יפה של צבעים \n",
    "#plt.xticks(rotation=80)\n",
    "#plt.title('Specializations with over 100 people')\n",
    "#plt.xlabel('Specializations')\n",
    "#plt.ylabel('Amount of people')\n",
    "#plt.show()"
   ]
  },
  {
   "cell_type": "code",
   "execution_count": 463,
   "id": "d7f61bf1-a1ec-41e4-84b4-84a2dfb128bc",
   "metadata": {},
   "outputs": [],
   "source": [
    "# ממוצע ציוני תואר \n",
    "#plt.scatter(pj.index, pj['collegeGPA'])\n",
    "#plt.title('Degree grade avarage')\n",
    "#plt.xlabel('count')\n",
    "#plt.ylabel('avarage grade')"
   ]
  },
  {
   "cell_type": "code",
   "execution_count": 464,
   "id": "13fe9fe7-d759-4cfb-aec7-2120c7580a55",
   "metadata": {},
   "outputs": [],
   "source": [
    "#plt.boxplot(pj.collegeGPA)"
   ]
  },
  {
   "cell_type": "markdown",
   "id": "58292022-47b1-47a3-ac09-a78c671eca20",
   "metadata": {},
   "source": [
    "## חקירת עמודות למציאת חריגות לכיווני חקירה"
   ]
  },
  {
   "cell_type": "code",
   "execution_count": 507,
   "id": "6f6de7a9-24ad-41b3-aa95-63e32e27ee56",
   "metadata": {},
   "outputs": [
    {
     "data": {
      "image/png": "[encoded data removed]",
      "text/plain": [
       "<Figure size 1200x400 with 3 Axes>"
      ]
     },
     "metadata": {},
     "output_type": "display_data"
    }
   ],
   "source": [
    "columns_of_interest = ['English', 'Logical', 'Quant']\n",
    "Reasonable_Range= pj.filter(columns_of_interest).select_dtypes(include=np.number)\n",
    "\n",
    "# בוקס פלוט\n",
    "Reasonable_Range.plot(subplots=True, layout=(1, len(columns_of_interest)), kind='box', figsize=(12, 4), patch_artist=True) # עושה את הצבע הכחול \n",
    "plt.subplots_adjust(wspace=0.5)\n",
    "plt.show()"
   ]
  },
  {
   "cell_type": "code",
   "execution_count": 498,
   "id": "8c2e89ec-eb93-4b71-8885-df959bfb4f01",
   "metadata": {},
   "outputs": [
    {
     "data": {
      "image/png": "[encoded data removed]",
      "text/plain": [
       "<Figure size 1200x400 with 5 Axes>"
      ]
     },
     "metadata": {},
     "output_type": "display_data"
    }
   ],
   "source": [
    "columns_of_interest = ['conscientiousness', 'agreeableness', 'extraversion',\n",
    "       'nueroticism', 'openess_to_experience']\n",
    "Reasonable_Range= pj.filter(columns_of_interest).select_dtypes(include=np.number)\n",
    "\n",
    "# בוקס פלוט\n",
    "Reasonable_Range.plot(subplots=True, layout=(1, len(columns_of_interest)), kind='box', figsize=(12, 4), patch_artist=True)\n",
    "plt.subplots_adjust(wspace=0.5)\n",
    "plt.show()"
   ]
  },
  {
   "cell_type": "code",
   "execution_count": 500,
   "id": "e537ea75-32d1-45de-ba84-b4c8991932ed",
   "metadata": {},
   "outputs": [
    {
     "data": {
      "image/png": "[encoded data removed]",
      "text/plain": [
       "<Figure size 1200x400 with 3 Axes>"
      ]
     },
     "metadata": {},
     "output_type": "display_data"
    }
   ],
   "source": [
    "columns_of_interest = ['10percentage','12percentage', 'collegeGPA']\n",
    "Reasonable_Range= pj.filter(columns_of_interest).select_dtypes(include=np.number)\n",
    "\n",
    "# בוקס פלוט\n",
    "Reasonable_Range.plot(subplots=True, layout=(1, len(columns_of_interest)), kind='box', figsize=(12, 4), patch_artist=True)\n",
    "plt.subplots_adjust(wspace=0.5)\n",
    "plt.show()"
   ]
  },
  {
   "cell_type": "markdown",
   "id": "15722c14-873a-43c8-9f9f-319e8aa92a0f",
   "metadata": {},
   "source": [
    "### לזכור להוסיף קורלציות של ממוצע ציוני תואר עם משכורת, ממוצע ציוני תואר עם תכונות אופי"
   ]
  },
  {
   "cell_type": "code",
   "execution_count": 516,
   "id": "a1926f01-0496-4117-951f-a80717c329d2",
   "metadata": {},
   "outputs": [
    {
     "data": {
      "text/html": [
       "<div>\n",
       "<style scoped>\n",
       "    .dataframe tbody tr th:only-of-type {\n",
       "        vertical-align: middle;\n",
       "    }\n",
       "\n",
       "    .dataframe tbody tr th {\n",
       "        vertical-align: top;\n",
       "    }\n",
       "\n",
       "    .dataframe thead th {\n",
       "        text-align: right;\n",
       "    }\n",
       "</style>\n",
       "<table border=\"1\" class=\"dataframe\">\n",
       "  <thead>\n",
       "    <tr style=\"text-align: right;\">\n",
       "      <th></th>\n",
       "      <th>English</th>\n",
       "      <th>Logical</th>\n",
       "      <th>Quant</th>\n",
       "      <th>Domain</th>\n",
       "      <th>Salary</th>\n",
       "    </tr>\n",
       "  </thead>\n",
       "  <tbody>\n",
       "    <tr>\n",
       "      <th>English</th>\n",
       "      <td>1.00</td>\n",
       "      <td>0.44</td>\n",
       "      <td>0.38</td>\n",
       "      <td>0.10</td>\n",
       "      <td>0.18</td>\n",
       "    </tr>\n",
       "    <tr>\n",
       "      <th>Logical</th>\n",
       "      <td>0.44</td>\n",
       "      <td>1.00</td>\n",
       "      <td>0.51</td>\n",
       "      <td>0.18</td>\n",
       "      <td>0.19</td>\n",
       "    </tr>\n",
       "    <tr>\n",
       "      <th>Quant</th>\n",
       "      <td>0.38</td>\n",
       "      <td>0.51</td>\n",
       "      <td>1.00</td>\n",
       "      <td>0.22</td>\n",
       "      <td>0.24</td>\n",
       "    </tr>\n",
       "    <tr>\n",
       "      <th>Domain</th>\n",
       "      <td>0.10</td>\n",
       "      <td>0.18</td>\n",
       "      <td>0.22</td>\n",
       "      <td>1.00</td>\n",
       "      <td>0.13</td>\n",
       "    </tr>\n",
       "    <tr>\n",
       "      <th>Salary</th>\n",
       "      <td>0.18</td>\n",
       "      <td>0.19</td>\n",
       "      <td>0.24</td>\n",
       "      <td>0.13</td>\n",
       "      <td>1.00</td>\n",
       "    </tr>\n",
       "  </tbody>\n",
       "</table>\n",
       "</div>"
      ],
      "text/plain": [
       "         English  Logical  Quant  Domain  Salary\n",
       "English     1.00     0.44   0.38    0.10    0.18\n",
       "Logical     0.44     1.00   0.51    0.18    0.19\n",
       "Quant       0.38     0.51   1.00    0.22    0.24\n",
       "Domain      0.10     0.18   0.22    1.00    0.13\n",
       "Salary      0.18     0.19   0.24    0.13    1.00"
      ]
     },
     "execution_count": 516,
     "metadata": {},
     "output_type": "execute_result"
    }
   ],
   "source": [
    "# בחירת העמודות הרלוונטיות\n",
    "features = ['English', 'Logical', 'Quant',\n",
    "       'Domain', 'Salary']\n",
    "\n",
    "# חישוב מטריצת הקורלציה בשיטת Pearson\n",
    "correlation_matrix = pj[features].corr(method='pearson').round(2)\n",
    "correlation_matrix\n",
    "# יצירת Heatmap להצגת מטריצת הקורלציה\n",
    "#plt.figure(figsize=(7, 6))\n",
    "#sns.heatmap(data=correlation_matrix, annot=True, cmap='coolwarm', vmin=-1, vmax=1)\n",
    "#plt.title('מטריצת קורלציה בין ממוצע ציוני תואר לבין משכורות')\n",
    "#plt.show()"
   ]
  },
  {
   "cell_type": "code",
   "execution_count": 466,
   "id": "228019ad-be98-47fa-a560-b97fe1546507",
   "metadata": {},
   "outputs": [
    {
     "data": {
      "image/png": "[encoded data removed]",
      "text/plain": [
       "<Figure size 640x480 with 1 Axes>"
      ]
     },
     "metadata": {},
     "output_type": "display_data"
    }
   ],
   "source": [
    "# משתנה המכיל את סוגי התארים\n",
    "degrees = pj['Degree'].value_counts()\n",
    "\n",
    "# ציור היסטוגרמה\n",
    "degrees.plot(kind='bar')\n",
    "plt.title('Distribution of Degrees')\n",
    "plt.xlabel('Degree')\n",
    "plt.ylabel('Count')\n",
    "plt.xticks(rotation=80)\n",
    "plt.show()"
   ]
  },
  {
   "cell_type": "code",
   "execution_count": 467,
   "id": "9178885e-cf1a-4c55-ab23-7b82f838edd7",
   "metadata": {},
   "outputs": [
    {
     "data": {
      "text/plain": [
       "Degree\n",
       "B.Tech/B.E.      2757\n",
       "MCA               200\n",
       "M.Tech./M.E.       40\n",
       "M.Sc. (Tech.)       1\n",
       "Name: count, dtype: int64"
      ]
     },
     "execution_count": 467,
     "metadata": {},
     "output_type": "execute_result"
    }
   ],
   "source": [
    "# כדי להבין מה הקטע עם מדעי המחשב תואר שני\n",
    "degree_counts = pj['Degree'].value_counts()\n",
    "degree_counts"
   ]
  },
  {
   "cell_type": "code",
   "execution_count": 469,
   "id": "1acb36b6-376b-4461-a9f4-9ee05b7e2e4c",
   "metadata": {},
   "outputs": [
    {
     "data": {
      "text/plain": [
       "[0, 2007, 2009, 2010, 2011, 2012, 2013, 2014, 2015, 2016, 2017]"
      ]
     },
     "execution_count": 469,
     "metadata": {},
     "output_type": "execute_result"
    }
   ],
   "source": [
    "GraduationYear = pj[\"GraduationYear\"].unique()\n",
    "sorted(GraduationYear)\n",
    "# לפי מה שראינו מעלה יש רק מקרה 1 בעמודה הזו שמישהו כתב 0. להבין מה לעשות עם זה"
   ]
  },
  {
   "cell_type": "code",
   "execution_count": 470,
   "id": "8e2a7b04-deea-4b86-bb5e-f2fcd983cec0",
   "metadata": {},
   "outputs": [],
   "source": [
    "#  הוספת עמודת גיל סיום תואר כנראה לא נשתמש\n",
    "#pj['DOB'] = pd.to_datetime(pj['DOB'], errors='coerce')\n",
    "#pj['Age_at_Graduation'] = pj['GraduationYear'] - pj['DOB'].dt.year\n",
    "# בדיקה"
   ]
  },
  {
   "cell_type": "code",
   "execution_count": 471,
   "id": "90424ea3-0423-4c64-86d2-dd8df85739ba",
   "metadata": {},
   "outputs": [],
   "source": [
    "#personality_columns = ['conscientiousness', 'agreeableness', 'extraversion', 'nueroticism', 'openess_to_experience']\n",
    "\n",
    "# צור היסטוגרמות עבור כל תכונת אישיות עבור הסטודנטים בעשירון העליון\n",
    "#plt.figure(figsize=(15, 10))\n",
    "\n",
    "#for i, trait in enumerate(personality_columns, start=1):\n",
    "    #plt.subplot(3, 2, i)\n",
    "    #sns.histplot(pj[trait], kde=True)\n",
    "    #plt.title(f'Histogram of {trait.capitalize()}')\n",
    "    #plt.xlabel(trait.capitalize())\n",
    "    #plt.ylabel('Amount of people')\n",
    "\n",
    "#plt.tight_layout()\n",
    "#plt.show()"
   ]
  },
  {
   "cell_type": "markdown",
   "id": "2833398a-c2ae-4c83-9a82-ae5185c6af96",
   "metadata": {},
   "source": [
    "---\n",
    "###### 1.   Focus on data Bachelor's degree\n",
    "---"
   ]
  },
  {
   "cell_type": "code",
   "execution_count": 472,
   "id": "726f4a33-e276-458c-90a2-ab7dd87313e6",
   "metadata": {},
   "outputs": [],
   "source": [
    "# חילוק הדאטה לתואר ראשון\n",
    "#ba_data = pj[(pj['Degree'] == 'B.Tech/B.E.') | (pj['Degree'] == 'MCA')]"
   ]
  },
  {
   "cell_type": "code",
   "execution_count": 473,
   "id": "d1aa72ef-4bf9-43c4-b128-084c3b45342f",
   "metadata": {},
   "outputs": [],
   "source": [
    "# משכורות תואר ראשון לממוצע תואר\n",
    "#fig, axes = plt.subplots(figsize=(8, 6))\n",
    "#sns.scatterplot(ba_data, y = \"Salary\", x=\"collegeGPA\", hue='Gender')\n",
    "#fig.suptitle('Salary vs College GPA', fontsize=16)"
   ]
  },
  {
   "cell_type": "code",
   "execution_count": 474,
   "id": "1994cc70-ff9a-4b84-bfda-3c3bcddbe8e7",
   "metadata": {},
   "outputs": [],
   "source": [
    "# סטודנטים עם ממוצע 650 במבחן הזה\n",
    "#students_with_avg_650 = ba_data[ba_data[['Quant', 'English', 'Logical']].mean(axis=1) >= 650]"
   ]
  },
  {
   "cell_type": "code",
   "execution_count": 475,
   "id": "f12e6314-01d2-456f-8320-46d7d5251c44",
   "metadata": {},
   "outputs": [],
   "source": [
    "# ממוצע שכר של אותם 117 עם ממוצע 650 בפסיכוזיבי\n",
    "#average_salary_high_scores = students_with_avg_650['Salary'].mean()\n",
    "#average_salary_high_scores"
   ]
  },
  {
   "cell_type": "code",
   "execution_count": 476,
   "id": "8d1eb1c0-97a0-4965-a35f-e5a06a51d16b",
   "metadata": {},
   "outputs": [],
   "source": [
    "#plt.figure(figsize=(8, 6))\n",
    "#sns.boxplot(data=students_with_avg_650, y='Salary')\n",
    "#plt.title('Box Plot of Salary for Students with High Scores in Quant, English, and Logical')\n",
    "#plt.ylabel('Salary')\n",
    "#plt.show()"
   ]
  },
  {
   "cell_type": "code",
   "execution_count": 477,
   "id": "834488f3-2f08-4a94-ae31-5f52741cae3e",
   "metadata": {},
   "outputs": [],
   "source": [
    "#average_salary_all_scores = ba_data['Salary'].mean()\n",
    "#average_salary_all_scores"
   ]
  },
  {
   "cell_type": "code",
   "execution_count": 478,
   "id": "c1e8b77f-a5a7-4a25-9add-864ccd935caa",
   "metadata": {},
   "outputs": [],
   "source": [
    "#personality_columns = ['conscientiousness', 'agreeableness', 'extraversion', 'nueroticism', 'openess_to_experience']\n",
    "#for trait in personality_columns:\n",
    "    #plt.figure(figsize=(6, 4))\n",
    "    #sns.scatterplot(data=students_with_avg_650, x=trait, y='Salary')\n",
    "    #plt.title(f'Salary vs {trait.capitalize()}')\n",
    "    #plt.xlabel(trait.capitalize())\n",
    "    #plt.ylabel('Salary')\n",
    "    #plt.show()"
   ]
  },
  {
   "cell_type": "markdown",
   "id": "5c529989-3e15-4f3a-9283-c8a81b5896ec",
   "metadata": {},
   "source": [
    "---\n",
    "# 1.   Focus on gender\n",
    "---"
   ]
  },
  {
   "cell_type": "code",
   "execution_count": 479,
   "id": "1b848961-4f0f-43b7-baef-f9f0b26fa7b6",
   "metadata": {},
   "outputs": [
    {
     "data": {
      "text/plain": [
       "array(['f', 'm'], dtype=object)"
      ]
     },
     "execution_count": 479,
     "metadata": {},
     "output_type": "execute_result"
    }
   ],
   "source": [
    "# וידוא שאין ערכים שהם לא זכר ונקבה\n",
    "pj[\"Gender\"].unique()"
   ]
  },
  {
   "cell_type": "code",
   "execution_count": 480,
   "id": "d72f75c3-8f7f-4cb4-98aa-36b951b21c32",
   "metadata": {},
   "outputs": [
    {
     "data": {
      "text/html": [
       "<div>\n",
       "<style scoped>\n",
       "    .dataframe tbody tr th:only-of-type {\n",
       "        vertical-align: middle;\n",
       "    }\n",
       "\n",
       "    .dataframe tbody tr th {\n",
       "        vertical-align: top;\n",
       "    }\n",
       "\n",
       "    .dataframe thead th {\n",
       "        text-align: right;\n",
       "    }\n",
       "</style>\n",
       "<table border=\"1\" class=\"dataframe\">\n",
       "  <thead>\n",
       "    <tr style=\"text-align: right;\">\n",
       "      <th></th>\n",
       "      <th>Gender</th>\n",
       "      <th>Count</th>\n",
       "    </tr>\n",
       "  </thead>\n",
       "  <tbody>\n",
       "    <tr>\n",
       "      <th>0</th>\n",
       "      <td>m</td>\n",
       "      <td>2282</td>\n",
       "    </tr>\n",
       "    <tr>\n",
       "      <th>1</th>\n",
       "      <td>f</td>\n",
       "      <td>716</td>\n",
       "    </tr>\n",
       "  </tbody>\n",
       "</table>\n",
       "</div>"
      ],
      "text/plain": [
       "  Gender  Count\n",
       "0      m   2282\n",
       "1      f    716"
      ]
     },
     "execution_count": 480,
     "metadata": {},
     "output_type": "execute_result"
    }
   ],
   "source": [
    "# חישוב מספר הגברים והנשים במאגר הנתונים\n",
    "gender_counts = pj['Gender'].value_counts().reset_index()\n",
    "gender_counts.columns = ['Gender', 'Count']\n",
    "\n",
    "# הצגת התוצאות\n",
    "gender_counts"
   ]
  },
  {
   "cell_type": "code",
   "execution_count": 481,
   "id": "39dc1283-541c-461a-b4ca-4f78157695f3",
   "metadata": {},
   "outputs": [
    {
     "data": {
      "application/vnd.plotly.v1+json": {
       "config": {
        "plotlyServerURL": "https://plot.ly"
       },
       "data": [
        {
         "domain": {
          "x": [
           0,
           1
          ],
          "y": [
           0,
           1
          ]
         },
         "hovertemplate": "label=%{label}<br>value=%{value}<extra></extra>",
         "labels": [
          "m",
          "f"
         ],
         "legendgroup": "",
         "name": "",
         "showlegend": true,
         "type": "pie",
         "values": [
          76.11741160773849,
          23.882588392261507
         ]
        }
       ],
       "layout": {
        "height": 500,
        "legend": {
         "tracegroupgap": 0
        },
        "piecolorway": [
         "#ADD8E6",
         "#FFC0CB"
        ],
        "template": {
         "data": {
          "bar": [
           {
            "error_x": {
             "color": "#2a3f5f"
            },
            "error_y": {
             "color": "#2a3f5f"
            },
            "marker": {
             "line": {
              "color": "#E5ECF6",
              "width": 0.5
             },
             "pattern": {
              "fillmode": "overlay",
              "size": 10,
              "solidity": 0.2
             }
            },
            "type": "bar"
           }
          ],
          "barpolar": [
           {
            "marker": {
             "line": {
              "color": "#E5ECF6",
              "width": 0.5
             },
             "pattern": {
              "fillmode": "overlay",
              "size": 10,
              "solidity": 0.2
             }
            },
            "type": "barpolar"
           }
          ],
          "carpet": [
           {
            "aaxis": {
             "endlinecolor": "#2a3f5f",
             "gridcolor": "white",
             "linecolor": "white",
             "minorgridcolor": "white",
             "startlinecolor": "#2a3f5f"
            },
            "baxis": {
             "endlinecolor": "#2a3f5f",
             "gridcolor": "white",
             "linecolor": "white",
             "minorgridcolor": "white",
             "startlinecolor": "#2a3f5f"
            },
            "type": "carpet"
           }
          ],
          "choropleth": [
           {
            "colorbar": {
             "outlinewidth": 0,
             "ticks": ""
            },
            "type": "choropleth"
           }
          ],
          "contour": [
           {
            "colorbar": {
             "outlinewidth": 0,
             "ticks": ""
            },
            "colorscale": [
             [
              0,
              "#0d0887"
             ],
             [
              0.1111111111111111,
              "#46039f"
             ],
             [
              0.2222222222222222,
              "#7201a8"
             ],
             [
              0.3333333333333333,
              "#9c179e"
             ],
             [
              0.4444444444444444,
              "#bd3786"
             ],
             [
              0.5555555555555556,
              "#d8576b"
             ],
             [
              0.6666666666666666,
              "#ed7953"
             ],
             [
              0.7777777777777778,
              "#fb9f3a"
             ],
             [
              0.8888888888888888,
              "#fdca26"
             ],
             [
              1,
              "#f0f921"
             ]
            ],
            "type": "contour"
           }
          ],
          "contourcarpet": [
           {
            "colorbar": {
             "outlinewidth": 0,
             "ticks": ""
            },
            "type": "contourcarpet"
           }
          ],
          "heatmap": [
           {
            "colorbar": {
             "outlinewidth": 0,
             "ticks": ""
            },
            "colorscale": [
             [
              0,
              "#0d0887"
             ],
             [
              0.1111111111111111,
              "#46039f"
             ],
             [
              0.2222222222222222,
              "#7201a8"
             ],
             [
              0.3333333333333333,
              "#9c179e"
             ],
             [
              0.4444444444444444,
              "#bd3786"
             ],
             [
              0.5555555555555556,
              "#d8576b"
             ],
             [
              0.6666666666666666,
              "#ed7953"
             ],
             [
              0.7777777777777778,
              "#fb9f3a"
             ],
             [
              0.8888888888888888,
              "#fdca26"
             ],
             [
              1,
              "#f0f921"
             ]
            ],
            "type": "heatmap"
           }
          ],
          "heatmapgl": [
           {
            "colorbar": {
             "outlinewidth": 0,
             "ticks": ""
            },
            "colorscale": [
             [
              0,
              "#0d0887"
             ],
             [
              0.1111111111111111,
              "#46039f"
             ],
             [
              0.2222222222222222,
              "#7201a8"
             ],
             [
              0.3333333333333333,
              "#9c179e"
             ],
             [
              0.4444444444444444,
              "#bd3786"
             ],
             [
              0.5555555555555556,
              "#d8576b"
             ],
             [
              0.6666666666666666,
              "#ed7953"
             ],
             [
              0.7777777777777778,
              "#fb9f3a"
             ],
             [
              0.8888888888888888,
              "#fdca26"
             ],
             [
              1,
              "#f0f921"
             ]
            ],
            "type": "heatmapgl"
           }
          ],
          "histogram": [
           {
            "marker": {
             "pattern": {
              "fillmode": "overlay",
              "size": 10,
              "solidity": 0.2
             }
            },
            "type": "histogram"
           }
          ],
          "histogram2d": [
           {
            "colorbar": {
             "outlinewidth": 0,
             "ticks": ""
            },
            "colorscale": [
             [
              0,
              "#0d0887"
             ],
             [
              0.1111111111111111,
              "#46039f"
             ],
             [
              0.2222222222222222,
              "#7201a8"
             ],
             [
              0.3333333333333333,
              "#9c179e"
             ],
             [
              0.4444444444444444,
              "#bd3786"
             ],
             [
              0.5555555555555556,
              "#d8576b"
             ],
             [
              0.6666666666666666,
              "#ed7953"
             ],
             [
              0.7777777777777778,
              "#fb9f3a"
             ],
             [
              0.8888888888888888,
              "#fdca26"
             ],
             [
              1,
              "#f0f921"
             ]
            ],
            "type": "histogram2d"
           }
          ],
          "histogram2dcontour": [
           {
            "colorbar": {
             "outlinewidth": 0,
             "ticks": ""
            },
            "colorscale": [
             [
              0,
              "#0d0887"
             ],
             [
              0.1111111111111111,
              "#46039f"
             ],
             [
              0.2222222222222222,
              "#7201a8"
             ],
             [
              0.3333333333333333,
              "#9c179e"
             ],
             [
              0.4444444444444444,
              "#bd3786"
             ],
             [
              0.5555555555555556,
              "#d8576b"
             ],
             [
              0.6666666666666666,
              "#ed7953"
             ],
             [
              0.7777777777777778,
              "#fb9f3a"
             ],
             [
              0.8888888888888888,
              "#fdca26"
             ],
             [
              1,
              "#f0f921"
             ]
            ],
            "type": "histogram2dcontour"
           }
          ],
          "mesh3d": [
           {
            "colorbar": {
             "outlinewidth": 0,
             "ticks": ""
            },
            "type": "mesh3d"
           }
          ],
          "parcoords": [
           {
            "line": {
             "colorbar": {
              "outlinewidth": 0,
              "ticks": ""
             }
            },
            "type": "parcoords"
           }
          ],
          "pie": [
           {
            "automargin": true,
            "type": "pie"
           }
          ],
          "scatter": [
           {
            "fillpattern": {
             "fillmode": "overlay",
             "size": 10,
             "solidity": 0.2
            },
            "type": "scatter"
           }
          ],
          "scatter3d": [
           {
            "line": {
             "colorbar": {
              "outlinewidth": 0,
              "ticks": ""
             }
            },
            "marker": {
             "colorbar": {
              "outlinewidth": 0,
              "ticks": ""
             }
            },
            "type": "scatter3d"
           }
          ],
          "scattercarpet": [
           {
            "marker": {
             "colorbar": {
              "outlinewidth": 0,
              "ticks": ""
             }
            },
            "type": "scattercarpet"
           }
          ],
          "scattergeo": [
           {
            "marker": {
             "colorbar": {
              "outlinewidth": 0,
              "ticks": ""
             }
            },
            "type": "scattergeo"
           }
          ],
          "scattergl": [
           {
            "marker": {
             "colorbar": {
              "outlinewidth": 0,
              "ticks": ""
             }
            },
            "type": "scattergl"
           }
          ],
          "scattermapbox": [
           {
            "marker": {
             "colorbar": {
              "outlinewidth": 0,
              "ticks": ""
             }
            },
            "type": "scattermapbox"
           }
          ],
          "scatterpolar": [
           {
            "marker": {
             "colorbar": {
              "outlinewidth": 0,
              "ticks": ""
             }
            },
            "type": "scatterpolar"
           }
          ],
          "scatterpolargl": [
           {
            "marker": {
             "colorbar": {
              "outlinewidth": 0,
              "ticks": ""
             }
            },
            "type": "scatterpolargl"
           }
          ],
          "scatterternary": [
           {
            "marker": {
             "colorbar": {
              "outlinewidth": 0,
              "ticks": ""
             }
            },
            "type": "scatterternary"
           }
          ],
          "surface": [
           {
            "colorbar": {
             "outlinewidth": 0,
             "ticks": ""
            },
            "colorscale": [
             [
              0,
              "#0d0887"
             ],
             [
              0.1111111111111111,
              "#46039f"
             ],
             [
              0.2222222222222222,
              "#7201a8"
             ],
             [
              0.3333333333333333,
              "#9c179e"
             ],
             [
              0.4444444444444444,
              "#bd3786"
             ],
             [
              0.5555555555555556,
              "#d8576b"
             ],
             [
              0.6666666666666666,
              "#ed7953"
             ],
             [
              0.7777777777777778,
              "#fb9f3a"
             ],
             [
              0.8888888888888888,
              "#fdca26"
             ],
             [
              1,
              "#f0f921"
             ]
            ],
            "type": "surface"
           }
          ],
          "table": [
           {
            "cells": {
             "fill": {
              "color": "#EBF0F8"
             },
             "line": {
              "color": "white"
             }
            },
            "header": {
             "fill": {
              "color": "#C8D4E3"
             },
             "line": {
              "color": "white"
             }
            },
            "type": "table"
           }
          ]
         },
         "layout": {
          "annotationdefaults": {
           "arrowcolor": "#2a3f5f",
           "arrowhead": 0,
           "arrowwidth": 1
          },
          "autotypenumbers": "strict",
          "coloraxis": {
           "colorbar": {
            "outlinewidth": 0,
            "ticks": ""
           }
          },
          "colorscale": {
           "diverging": [
            [
             0,
             "#8e0152"
            ],
            [
             0.1,
             "#c51b7d"
            ],
            [
             0.2,
             "#de77ae"
            ],
            [
             0.3,
             "#f1b6da"
            ],
            [
             0.4,
             "#fde0ef"
            ],
            [
             0.5,
             "#f7f7f7"
            ],
            [
             0.6,
             "#e6f5d0"
            ],
            [
             0.7,
             "#b8e186"
            ],
            [
             0.8,
             "#7fbc41"
            ],
            [
             0.9,
             "#4d9221"
            ],
            [
             1,
             "#276419"
            ]
           ],
           "sequential": [
            [
             0,
             "#0d0887"
            ],
            [
             0.1111111111111111,
             "#46039f"
            ],
            [
             0.2222222222222222,
             "#7201a8"
            ],
            [
             0.3333333333333333,
             "#9c179e"
            ],
            [
             0.4444444444444444,
             "#bd3786"
            ],
            [
             0.5555555555555556,
             "#d8576b"
            ],
            [
             0.6666666666666666,
             "#ed7953"
            ],
            [
             0.7777777777777778,
             "#fb9f3a"
            ],
            [
             0.8888888888888888,
             "#fdca26"
            ],
            [
             1,
             "#f0f921"
            ]
           ],
           "sequentialminus": [
            [
             0,
             "#0d0887"
            ],
            [
             0.1111111111111111,
             "#46039f"
            ],
            [
             0.2222222222222222,
             "#7201a8"
            ],
            [
             0.3333333333333333,
             "#9c179e"
            ],
            [
             0.4444444444444444,
             "#bd3786"
            ],
            [
             0.5555555555555556,
             "#d8576b"
            ],
            [
             0.6666666666666666,
             "#ed7953"
            ],
            [
             0.7777777777777778,
             "#fb9f3a"
            ],
            [
             0.8888888888888888,
             "#fdca26"
            ],
            [
             1,
             "#f0f921"
            ]
           ]
          },
          "colorway": [
           "#636efa",
           "#EF553B",
           "#00cc96",
           "#ab63fa",
           "#FFA15A",
           "#19d3f3",
           "#FF6692",
           "#B6E880",
           "#FF97FF",
           "#FECB52"
          ],
          "font": {
           "color": "#2a3f5f"
          },
          "geo": {
           "bgcolor": "white",
           "lakecolor": "white",
           "landcolor": "#E5ECF6",
           "showlakes": true,
           "showland": true,
           "subunitcolor": "white"
          },
          "hoverlabel": {
           "align": "left"
          },
          "hovermode": "closest",
          "mapbox": {
           "style": "light"
          },
          "paper_bgcolor": "white",
          "plot_bgcolor": "#E5ECF6",
          "polar": {
           "angularaxis": {
            "gridcolor": "white",
            "linecolor": "white",
            "ticks": ""
           },
           "bgcolor": "#E5ECF6",
           "radialaxis": {
            "gridcolor": "white",
            "linecolor": "white",
            "ticks": ""
           }
          },
          "scene": {
           "xaxis": {
            "backgroundcolor": "#E5ECF6",
            "gridcolor": "white",
            "gridwidth": 2,
            "linecolor": "white",
            "showbackground": true,
            "ticks": "",
            "zerolinecolor": "white"
           },
           "yaxis": {
            "backgroundcolor": "#E5ECF6",
            "gridcolor": "white",
            "gridwidth": 2,
            "linecolor": "white",
            "showbackground": true,
            "ticks": "",
            "zerolinecolor": "white"
           },
           "zaxis": {
            "backgroundcolor": "#E5ECF6",
            "gridcolor": "white",
            "gridwidth": 2,
            "linecolor": "white",
            "showbackground": true,
            "ticks": "",
            "zerolinecolor": "white"
           }
          },
          "shapedefaults": {
           "line": {
            "color": "#2a3f5f"
           }
          },
          "ternary": {
           "aaxis": {
            "gridcolor": "white",
            "linecolor": "white",
            "ticks": ""
           },
           "baxis": {
            "gridcolor": "white",
            "linecolor": "white",
            "ticks": ""
           },
           "bgcolor": "#E5ECF6",
           "caxis": {
            "gridcolor": "white",
            "linecolor": "white",
            "ticks": ""
           }
          },
          "title": {
           "x": 0.05
          },
          "xaxis": {
           "automargin": true,
           "gridcolor": "white",
           "linecolor": "white",
           "ticks": "",
           "title": {
            "standoff": 15
           },
           "zerolinecolor": "white",
           "zerolinewidth": 2
          },
          "yaxis": {
           "automargin": true,
           "gridcolor": "white",
           "linecolor": "white",
           "ticks": "",
           "title": {
            "standoff": 15
           },
           "zerolinecolor": "white",
           "zerolinewidth": 2
          }
         }
        },
        "title": {
         "text": "Percentage of Males vs Females who studied engineering and computer science"
        },
        "width": 700
       }
      },
      "image/png": "[encoded data removed]",
      "text/html": [
       "<div>                            <div id=\"c16481d2-9254-4e1d-a32b-b1780385e7fb\" class=\"plotly-graph-div\" style=\"height:500px; width:700px;\"></div>            <script type=\"text/javascript\">                require([\"plotly\"], function(Plotly) {                    window.PLOTLYENV=window.PLOTLYENV || {};                                    if (document.getElementById(\"c16481d2-9254-4e1d-a32b-b1780385e7fb\")) {                    Plotly.newPlot(                        \"c16481d2-9254-4e1d-a32b-b1780385e7fb\",                        [{\"domain\":{\"x\":[0.0,1.0],\"y\":[0.0,1.0]},\"hovertemplate\":\"label=%{label}<br>value=%{value}<extra></extra>\",\"labels\":[\"m\",\"f\"],\"legendgroup\":\"\",\"name\":\"\",\"showlegend\":true,\"values\":[76.11741160773849,23.882588392261507],\"type\":\"pie\"}],                        {\"template\":{\"data\":{\"histogram2dcontour\":[{\"type\":\"histogram2dcontour\",\"colorbar\":{\"outlinewidth\":0,\"ticks\":\"\"},\"colorscale\":[[0.0,\"#0d0887\"],[0.1111111111111111,\"#46039f\"],[0.2222222222222222,\"#7201a8\"],[0.3333333333333333,\"#9c179e\"],[0.4444444444444444,\"#bd3786\"],[0.5555555555555556,\"#d8576b\"],[0.6666666666666666,\"#ed7953\"],[0.7777777777777778,\"#fb9f3a\"],[0.8888888888888888,\"#fdca26\"],[1.0,\"#f0f921\"]]}],\"choropleth\":[{\"type\":\"choropleth\",\"colorbar\":{\"outlinewidth\":0,\"ticks\":\"\"}}],\"histogram2d\":[{\"type\":\"histogram2d\",\"colorbar\":{\"outlinewidth\":0,\"ticks\":\"\"},\"colorscale\":[[0.0,\"#0d0887\"],[0.1111111111111111,\"#46039f\"],[0.2222222222222222,\"#7201a8\"],[0.3333333333333333,\"#9c179e\"],[0.4444444444444444,\"#bd3786\"],[0.5555555555555556,\"#d8576b\"],[0.6666666666666666,\"#ed7953\"],[0.7777777777777778,\"#fb9f3a\"],[0.8888888888888888,\"#fdca26\"],[1.0,\"#f0f921\"]]}],\"heatmap\":[{\"type\":\"heatmap\",\"colorbar\":{\"outlinewidth\":0,\"ticks\":\"\"},\"colorscale\":[[0.0,\"#0d0887\"],[0.1111111111111111,\"#46039f\"],[0.2222222222222222,\"#7201a8\"],[0.3333333333333333,\"#9c179e\"],[0.4444444444444444,\"#bd3786\"],[0.5555555555555556,\"#d8576b\"],[0.6666666666666666,\"#ed7953\"],[0.7777777777777778,\"#fb9f3a\"],[0.8888888888888888,\"#fdca26\"],[1.0,\"#f0f921\"]]}],\"heatmapgl\":[{\"type\":\"heatmapgl\",\"colorbar\":{\"outlinewidth\":0,\"ticks\":\"\"},\"colorscale\":[[0.0,\"#0d0887\"],[0.1111111111111111,\"#46039f\"],[0.2222222222222222,\"#7201a8\"],[0.3333333333333333,\"#9c179e\"],[0.4444444444444444,\"#bd3786\"],[0.5555555555555556,\"#d8576b\"],[0.6666666666666666,\"#ed7953\"],[0.7777777777777778,\"#fb9f3a\"],[0.8888888888888888,\"#fdca26\"],[1.0,\"#f0f921\"]]}],\"contourcarpet\":[{\"type\":\"contourcarpet\",\"colorbar\":{\"outlinewidth\":0,\"ticks\":\"\"}}],\"contour\":[{\"type\":\"contour\",\"colorbar\":{\"outlinewidth\":0,\"ticks\":\"\"},\"colorscale\":[[0.0,\"#0d0887\"],[0.1111111111111111,\"#46039f\"],[0.2222222222222222,\"#7201a8\"],[0.3333333333333333,\"#9c179e\"],[0.4444444444444444,\"#bd3786\"],[0.5555555555555556,\"#d8576b\"],[0.6666666666666666,\"#ed7953\"],[0.7777777777777778,\"#fb9f3a\"],[0.8888888888888888,\"#fdca26\"],[1.0,\"#f0f921\"]]}],\"surface\":[{\"type\":\"surface\",\"colorbar\":{\"outlinewidth\":0,\"ticks\":\"\"},\"colorscale\":[[0.0,\"#0d0887\"],[0.1111111111111111,\"#46039f\"],[0.2222222222222222,\"#7201a8\"],[0.3333333333333333,\"#9c179e\"],[0.4444444444444444,\"#bd3786\"],[0.5555555555555556,\"#d8576b\"],[0.6666666666666666,\"#ed7953\"],[0.7777777777777778,\"#fb9f3a\"],[0.8888888888888888,\"#fdca26\"],[1.0,\"#f0f921\"]]}],\"mesh3d\":[{\"type\":\"mesh3d\",\"colorbar\":{\"outlinewidth\":0,\"ticks\":\"\"}}],\"scatter\":[{\"fillpattern\":{\"fillmode\":\"overlay\",\"size\":10,\"solidity\":0.2},\"type\":\"scatter\"}],\"parcoords\":[{\"type\":\"parcoords\",\"line\":{\"colorbar\":{\"outlinewidth\":0,\"ticks\":\"\"}}}],\"scatterpolargl\":[{\"type\":\"scatterpolargl\",\"marker\":{\"colorbar\":{\"outlinewidth\":0,\"ticks\":\"\"}}}],\"bar\":[{\"error_x\":{\"color\":\"#2a3f5f\"},\"error_y\":{\"color\":\"#2a3f5f\"},\"marker\":{\"line\":{\"color\":\"#E5ECF6\",\"width\":0.5},\"pattern\":{\"fillmode\":\"overlay\",\"size\":10,\"solidity\":0.2}},\"type\":\"bar\"}],\"scattergeo\":[{\"type\":\"scattergeo\",\"marker\":{\"colorbar\":{\"outlinewidth\":0,\"ticks\":\"\"}}}],\"scatterpolar\":[{\"type\":\"scatterpolar\",\"marker\":{\"colorbar\":{\"outlinewidth\":0,\"ticks\":\"\"}}}],\"histogram\":[{\"marker\":{\"pattern\":{\"fillmode\":\"overlay\",\"size\":10,\"solidity\":0.2}},\"type\":\"histogram\"}],\"scattergl\":[{\"type\":\"scattergl\",\"marker\":{\"colorbar\":{\"outlinewidth\":0,\"ticks\":\"\"}}}],\"scatter3d\":[{\"type\":\"scatter3d\",\"line\":{\"colorbar\":{\"outlinewidth\":0,\"ticks\":\"\"}},\"marker\":{\"colorbar\":{\"outlinewidth\":0,\"ticks\":\"\"}}}],\"scattermapbox\":[{\"type\":\"scattermapbox\",\"marker\":{\"colorbar\":{\"outlinewidth\":0,\"ticks\":\"\"}}}],\"scatterternary\":[{\"type\":\"scatterternary\",\"marker\":{\"colorbar\":{\"outlinewidth\":0,\"ticks\":\"\"}}}],\"scattercarpet\":[{\"type\":\"scattercarpet\",\"marker\":{\"colorbar\":{\"outlinewidth\":0,\"ticks\":\"\"}}}],\"carpet\":[{\"aaxis\":{\"endlinecolor\":\"#2a3f5f\",\"gridcolor\":\"white\",\"linecolor\":\"white\",\"minorgridcolor\":\"white\",\"startlinecolor\":\"#2a3f5f\"},\"baxis\":{\"endlinecolor\":\"#2a3f5f\",\"gridcolor\":\"white\",\"linecolor\":\"white\",\"minorgridcolor\":\"white\",\"startlinecolor\":\"#2a3f5f\"},\"type\":\"carpet\"}],\"table\":[{\"cells\":{\"fill\":{\"color\":\"#EBF0F8\"},\"line\":{\"color\":\"white\"}},\"header\":{\"fill\":{\"color\":\"#C8D4E3\"},\"line\":{\"color\":\"white\"}},\"type\":\"table\"}],\"barpolar\":[{\"marker\":{\"line\":{\"color\":\"#E5ECF6\",\"width\":0.5},\"pattern\":{\"fillmode\":\"overlay\",\"size\":10,\"solidity\":0.2}},\"type\":\"barpolar\"}],\"pie\":[{\"automargin\":true,\"type\":\"pie\"}]},\"layout\":{\"autotypenumbers\":\"strict\",\"colorway\":[\"#636efa\",\"#EF553B\",\"#00cc96\",\"#ab63fa\",\"#FFA15A\",\"#19d3f3\",\"#FF6692\",\"#B6E880\",\"#FF97FF\",\"#FECB52\"],\"font\":{\"color\":\"#2a3f5f\"},\"hovermode\":\"closest\",\"hoverlabel\":{\"align\":\"left\"},\"paper_bgcolor\":\"white\",\"plot_bgcolor\":\"#E5ECF6\",\"polar\":{\"bgcolor\":\"#E5ECF6\",\"angularaxis\":{\"gridcolor\":\"white\",\"linecolor\":\"white\",\"ticks\":\"\"},\"radialaxis\":{\"gridcolor\":\"white\",\"linecolor\":\"white\",\"ticks\":\"\"}},\"ternary\":{\"bgcolor\":\"#E5ECF6\",\"aaxis\":{\"gridcolor\":\"white\",\"linecolor\":\"white\",\"ticks\":\"\"},\"baxis\":{\"gridcolor\":\"white\",\"linecolor\":\"white\",\"ticks\":\"\"},\"caxis\":{\"gridcolor\":\"white\",\"linecolor\":\"white\",\"ticks\":\"\"}},\"coloraxis\":{\"colorbar\":{\"outlinewidth\":0,\"ticks\":\"\"}},\"colorscale\":{\"sequential\":[[0.0,\"#0d0887\"],[0.1111111111111111,\"#46039f\"],[0.2222222222222222,\"#7201a8\"],[0.3333333333333333,\"#9c179e\"],[0.4444444444444444,\"#bd3786\"],[0.5555555555555556,\"#d8576b\"],[0.6666666666666666,\"#ed7953\"],[0.7777777777777778,\"#fb9f3a\"],[0.8888888888888888,\"#fdca26\"],[1.0,\"#f0f921\"]],\"sequentialminus\":[[0.0,\"#0d0887\"],[0.1111111111111111,\"#46039f\"],[0.2222222222222222,\"#7201a8\"],[0.3333333333333333,\"#9c179e\"],[0.4444444444444444,\"#bd3786\"],[0.5555555555555556,\"#d8576b\"],[0.6666666666666666,\"#ed7953\"],[0.7777777777777778,\"#fb9f3a\"],[0.8888888888888888,\"#fdca26\"],[1.0,\"#f0f921\"]],\"diverging\":[[0,\"#8e0152\"],[0.1,\"#c51b7d\"],[0.2,\"#de77ae\"],[0.3,\"#f1b6da\"],[0.4,\"#fde0ef\"],[0.5,\"#f7f7f7\"],[0.6,\"#e6f5d0\"],[0.7,\"#b8e186\"],[0.8,\"#7fbc41\"],[0.9,\"#4d9221\"],[1,\"#276419\"]]},\"xaxis\":{\"gridcolor\":\"white\",\"linecolor\":\"white\",\"ticks\":\"\",\"title\":{\"standoff\":15},\"zerolinecolor\":\"white\",\"automargin\":true,\"zerolinewidth\":2},\"yaxis\":{\"gridcolor\":\"white\",\"linecolor\":\"white\",\"ticks\":\"\",\"title\":{\"standoff\":15},\"zerolinecolor\":\"white\",\"automargin\":true,\"zerolinewidth\":2},\"scene\":{\"xaxis\":{\"backgroundcolor\":\"#E5ECF6\",\"gridcolor\":\"white\",\"linecolor\":\"white\",\"showbackground\":true,\"ticks\":\"\",\"zerolinecolor\":\"white\",\"gridwidth\":2},\"yaxis\":{\"backgroundcolor\":\"#E5ECF6\",\"gridcolor\":\"white\",\"linecolor\":\"white\",\"showbackground\":true,\"ticks\":\"\",\"zerolinecolor\":\"white\",\"gridwidth\":2},\"zaxis\":{\"backgroundcolor\":\"#E5ECF6\",\"gridcolor\":\"white\",\"linecolor\":\"white\",\"showbackground\":true,\"ticks\":\"\",\"zerolinecolor\":\"white\",\"gridwidth\":2}},\"shapedefaults\":{\"line\":{\"color\":\"#2a3f5f\"}},\"annotationdefaults\":{\"arrowcolor\":\"#2a3f5f\",\"arrowhead\":0,\"arrowwidth\":1},\"geo\":{\"bgcolor\":\"white\",\"landcolor\":\"#E5ECF6\",\"subunitcolor\":\"white\",\"showland\":true,\"showlakes\":true,\"lakecolor\":\"white\"},\"title\":{\"x\":0.05},\"mapbox\":{\"style\":\"light\"}}},\"legend\":{\"tracegroupgap\":0},\"title\":{\"text\":\"Percentage of Males vs Females who studied engineering and computer science\"},\"piecolorway\":[\"#ADD8E6\",\"#FFC0CB\"],\"height\":500,\"width\":700},                        {\"responsive\": true}                    ).then(function(){\n",
       "                            \n",
       "var gd = document.getElementById('c16481d2-9254-4e1d-a32b-b1780385e7fb');\n",
       "var x = new MutationObserver(function (mutations, observer) {{\n",
       "        var display = window.getComputedStyle(gd).display;\n",
       "        if (!display || display === 'none') {{\n",
       "            console.log([gd, 'removed!']);\n",
       "            Plotly.purge(gd);\n",
       "            observer.disconnect();\n",
       "        }}\n",
       "}});\n",
       "\n",
       "// Listen for the removal of the full notebook cells\n",
       "var notebookContainer = gd.closest('#notebook-container');\n",
       "if (notebookContainer) {{\n",
       "    x.observe(notebookContainer, {childList: true});\n",
       "}}\n",
       "\n",
       "// Listen for the clearing of the current output cell\n",
       "var outputEl = gd.closest('.output');\n",
       "if (outputEl) {{\n",
       "    x.observe(outputEl, {childList: true});\n",
       "}}\n",
       "\n",
       "                        })                };                });            </script>        </div>"
      ]
     },
     "metadata": {},
     "output_type": "display_data"
    }
   ],
   "source": [
    "# הצגה ברורה של כמות נשים מול גברים\n",
    "gender_counts = pj['Gender'].value_counts(normalize=True) * 100\n",
    "# דאטה רצוי\n",
    "gender_counts_df = pd.DataFrame({'Gender': gender_counts.index, 'Percentage': gender_counts.values})\n",
    "# פאי צארט\n",
    "fig = px.pie(values=gender_counts.values, names=gender_counts.index, title='Percentage of Males vs Females who studied engineering and computer science', width=700, height=500, color_discrete_sequence=['#ADD8E6', '#FFC0CB'])\n",
    "fig.show()"
   ]
  },
  {
   "cell_type": "code",
   "execution_count": 482,
   "id": "95dc5133-faad-400a-ac9f-47484e24f2ab",
   "metadata": {},
   "outputs": [
    {
     "data": {
      "application/vnd.plotly.v1+json": {
       "config": {
        "plotlyServerURL": "https://plot.ly"
       },
       "data": [
        {
         "alignmentgroup": "True",
         "hovertemplate": "Gender=%{x}<br>Average annual salary offered in INR=%{y}<extra></extra>",
         "legendgroup": "",
         "marker": {
          "color": [
           "pink",
           "lightblue"
          ],
          "pattern": {
           "shape": ""
          }
         },
         "name": "",
         "offsetgroup": "",
         "orientation": "v",
         "showlegend": false,
         "textposition": "auto",
         "type": "bar",
         "width": 0.3,
         "x": [
          "f",
          "m"
         ],
         "xaxis": "x",
         "y": [
          290418.9944134078,
          309804.5574057844
         ],
         "yaxis": "y"
        }
       ],
       "layout": {
        "barmode": "relative",
        "height": 600,
        "legend": {
         "tracegroupgap": 0
        },
        "template": {
         "data": {
          "bar": [
           {
            "error_x": {
             "color": "#2a3f5f"
            },
            "error_y": {
             "color": "#2a3f5f"
            },
            "marker": {
             "line": {
              "color": "#E5ECF6",
              "width": 0.5
             },
             "pattern": {
              "fillmode": "overlay",
              "size": 10,
              "solidity": 0.2
             }
            },
            "type": "bar"
           }
          ],
          "barpolar": [
           {
            "marker": {
             "line": {
              "color": "#E5ECF6",
              "width": 0.5
             },
             "pattern": {
              "fillmode": "overlay",
              "size": 10,
              "solidity": 0.2
             }
            },
            "type": "barpolar"
           }
          ],
          "carpet": [
           {
            "aaxis": {
             "endlinecolor": "#2a3f5f",
             "gridcolor": "white",
             "linecolor": "white",
             "minorgridcolor": "white",
             "startlinecolor": "#2a3f5f"
            },
            "baxis": {
             "endlinecolor": "#2a3f5f",
             "gridcolor": "white",
             "linecolor": "white",
             "minorgridcolor": "white",
             "startlinecolor": "#2a3f5f"
            },
            "type": "carpet"
           }
          ],
          "choropleth": [
           {
            "colorbar": {
             "outlinewidth": 0,
             "ticks": ""
            },
            "type": "choropleth"
           }
          ],
          "contour": [
           {
            "colorbar": {
             "outlinewidth": 0,
             "ticks": ""
            },
            "colorscale": [
             [
              0,
              "#0d0887"
             ],
             [
              0.1111111111111111,
              "#46039f"
             ],
             [
              0.2222222222222222,
              "#7201a8"
             ],
             [
              0.3333333333333333,
              "#9c179e"
             ],
             [
              0.4444444444444444,
              "#bd3786"
             ],
             [
              0.5555555555555556,
              "#d8576b"
             ],
             [
              0.6666666666666666,
              "#ed7953"
             ],
             [
              0.7777777777777778,
              "#fb9f3a"
             ],
             [
              0.8888888888888888,
              "#fdca26"
             ],
             [
              1,
              "#f0f921"
             ]
            ],
            "type": "contour"
           }
          ],
          "contourcarpet": [
           {
            "colorbar": {
             "outlinewidth": 0,
             "ticks": ""
            },
            "type": "contourcarpet"
           }
          ],
          "heatmap": [
           {
            "colorbar": {
             "outlinewidth": 0,
             "ticks": ""
            },
            "colorscale": [
             [
              0,
              "#0d0887"
             ],
             [
              0.1111111111111111,
              "#46039f"
             ],
             [
              0.2222222222222222,
              "#7201a8"
             ],
             [
              0.3333333333333333,
              "#9c179e"
             ],
             [
              0.4444444444444444,
              "#bd3786"
             ],
             [
              0.5555555555555556,
              "#d8576b"
             ],
             [
              0.6666666666666666,
              "#ed7953"
             ],
             [
              0.7777777777777778,
              "#fb9f3a"
             ],
             [
              0.8888888888888888,
              "#fdca26"
             ],
             [
              1,
              "#f0f921"
             ]
            ],
            "type": "heatmap"
           }
          ],
          "heatmapgl": [
           {
            "colorbar": {
             "outlinewidth": 0,
             "ticks": ""
            },
            "colorscale": [
             [
              0,
              "#0d0887"
             ],
             [
              0.1111111111111111,
              "#46039f"
             ],
             [
              0.2222222222222222,
              "#7201a8"
             ],
             [
              0.3333333333333333,
              "#9c179e"
             ],
             [
              0.4444444444444444,
              "#bd3786"
             ],
             [
              0.5555555555555556,
              "#d8576b"
             ],
             [
              0.6666666666666666,
              "#ed7953"
             ],
             [
              0.7777777777777778,
              "#fb9f3a"
             ],
             [
              0.8888888888888888,
              "#fdca26"
             ],
             [
              1,
              "#f0f921"
             ]
            ],
            "type": "heatmapgl"
           }
          ],
          "histogram": [
           {
            "marker": {
             "pattern": {
              "fillmode": "overlay",
              "size": 10,
              "solidity": 0.2
             }
            },
            "type": "histogram"
           }
          ],
          "histogram2d": [
           {
            "colorbar": {
             "outlinewidth": 0,
             "ticks": ""
            },
            "colorscale": [
             [
              0,
              "#0d0887"
             ],
             [
              0.1111111111111111,
              "#46039f"
             ],
             [
              0.2222222222222222,
              "#7201a8"
             ],
             [
              0.3333333333333333,
              "#9c179e"
             ],
             [
              0.4444444444444444,
              "#bd3786"
             ],
             [
              0.5555555555555556,
              "#d8576b"
             ],
             [
              0.6666666666666666,
              "#ed7953"
             ],
             [
              0.7777777777777778,
              "#fb9f3a"
             ],
             [
              0.8888888888888888,
              "#fdca26"
             ],
             [
              1,
              "#f0f921"
             ]
            ],
            "type": "histogram2d"
           }
          ],
          "histogram2dcontour": [
           {
            "colorbar": {
             "outlinewidth": 0,
             "ticks": ""
            },
            "colorscale": [
             [
              0,
              "#0d0887"
             ],
             [
              0.1111111111111111,
              "#46039f"
             ],
             [
              0.2222222222222222,
              "#7201a8"
             ],
             [
              0.3333333333333333,
              "#9c179e"
             ],
             [
              0.4444444444444444,
              "#bd3786"
             ],
             [
              0.5555555555555556,
              "#d8576b"
             ],
             [
              0.6666666666666666,
              "#ed7953"
             ],
             [
              0.7777777777777778,
              "#fb9f3a"
             ],
             [
              0.8888888888888888,
              "#fdca26"
             ],
             [
              1,
              "#f0f921"
             ]
            ],
            "type": "histogram2dcontour"
           }
          ],
          "mesh3d": [
           {
            "colorbar": {
             "outlinewidth": 0,
             "ticks": ""
            },
            "type": "mesh3d"
           }
          ],
          "parcoords": [
           {
            "line": {
             "colorbar": {
              "outlinewidth": 0,
              "ticks": ""
             }
            },
            "type": "parcoords"
           }
          ],
          "pie": [
           {
            "automargin": true,
            "type": "pie"
           }
          ],
          "scatter": [
           {
            "fillpattern": {
             "fillmode": "overlay",
             "size": 10,
             "solidity": 0.2
            },
            "type": "scatter"
           }
          ],
          "scatter3d": [
           {
            "line": {
             "colorbar": {
              "outlinewidth": 0,
              "ticks": ""
             }
            },
            "marker": {
             "colorbar": {
              "outlinewidth": 0,
              "ticks": ""
             }
            },
            "type": "scatter3d"
           }
          ],
          "scattercarpet": [
           {
            "marker": {
             "colorbar": {
              "outlinewidth": 0,
              "ticks": ""
             }
            },
            "type": "scattercarpet"
           }
          ],
          "scattergeo": [
           {
            "marker": {
             "colorbar": {
              "outlinewidth": 0,
              "ticks": ""
             }
            },
            "type": "scattergeo"
           }
          ],
          "scattergl": [
           {
            "marker": {
             "colorbar": {
              "outlinewidth": 0,
              "ticks": ""
             }
            },
            "type": "scattergl"
           }
          ],
          "scattermapbox": [
           {
            "marker": {
             "colorbar": {
              "outlinewidth": 0,
              "ticks": ""
             }
            },
            "type": "scattermapbox"
           }
          ],
          "scatterpolar": [
           {
            "marker": {
             "colorbar": {
              "outlinewidth": 0,
              "ticks": ""
             }
            },
            "type": "scatterpolar"
           }
          ],
          "scatterpolargl": [
           {
            "marker": {
             "colorbar": {
              "outlinewidth": 0,
              "ticks": ""
             }
            },
            "type": "scatterpolargl"
           }
          ],
          "scatterternary": [
           {
            "marker": {
             "colorbar": {
              "outlinewidth": 0,
              "ticks": ""
             }
            },
            "type": "scatterternary"
           }
          ],
          "surface": [
           {
            "colorbar": {
             "outlinewidth": 0,
             "ticks": ""
            },
            "colorscale": [
             [
              0,
              "#0d0887"
             ],
             [
              0.1111111111111111,
              "#46039f"
             ],
             [
              0.2222222222222222,
              "#7201a8"
             ],
             [
              0.3333333333333333,
              "#9c179e"
             ],
             [
              0.4444444444444444,
              "#bd3786"
             ],
             [
              0.5555555555555556,
              "#d8576b"
             ],
             [
              0.6666666666666666,
              "#ed7953"
             ],
             [
              0.7777777777777778,
              "#fb9f3a"
             ],
             [
              0.8888888888888888,
              "#fdca26"
             ],
             [
              1,
              "#f0f921"
             ]
            ],
            "type": "surface"
           }
          ],
          "table": [
           {
            "cells": {
             "fill": {
              "color": "#EBF0F8"
             },
             "line": {
              "color": "white"
             }
            },
            "header": {
             "fill": {
              "color": "#C8D4E3"
             },
             "line": {
              "color": "white"
             }
            },
            "type": "table"
           }
          ]
         },
         "layout": {
          "annotationdefaults": {
           "arrowcolor": "#2a3f5f",
           "arrowhead": 0,
           "arrowwidth": 1
          },
          "autotypenumbers": "strict",
          "coloraxis": {
           "colorbar": {
            "outlinewidth": 0,
            "ticks": ""
           }
          },
          "colorscale": {
           "diverging": [
            [
             0,
             "#8e0152"
            ],
            [
             0.1,
             "#c51b7d"
            ],
            [
             0.2,
             "#de77ae"
            ],
            [
             0.3,
             "#f1b6da"
            ],
            [
             0.4,
             "#fde0ef"
            ],
            [
             0.5,
             "#f7f7f7"
            ],
            [
             0.6,
             "#e6f5d0"
            ],
            [
             0.7,
             "#b8e186"
            ],
            [
             0.8,
             "#7fbc41"
            ],
            [
             0.9,
             "#4d9221"
            ],
            [
             1,
             "#276419"
            ]
           ],
           "sequential": [
            [
             0,
             "#0d0887"
            ],
            [
             0.1111111111111111,
             "#46039f"
            ],
            [
             0.2222222222222222,
             "#7201a8"
            ],
            [
             0.3333333333333333,
             "#9c179e"
            ],
            [
             0.4444444444444444,
             "#bd3786"
            ],
            [
             0.5555555555555556,
             "#d8576b"
            ],
            [
             0.6666666666666666,
             "#ed7953"
            ],
            [
             0.7777777777777778,
             "#fb9f3a"
            ],
            [
             0.8888888888888888,
             "#fdca26"
            ],
            [
             1,
             "#f0f921"
            ]
           ],
           "sequentialminus": [
            [
             0,
             "#0d0887"
            ],
            [
             0.1111111111111111,
             "#46039f"
            ],
            [
             0.2222222222222222,
             "#7201a8"
            ],
            [
             0.3333333333333333,
             "#9c179e"
            ],
            [
             0.4444444444444444,
             "#bd3786"
            ],
            [
             0.5555555555555556,
             "#d8576b"
            ],
            [
             0.6666666666666666,
             "#ed7953"
            ],
            [
             0.7777777777777778,
             "#fb9f3a"
            ],
            [
             0.8888888888888888,
             "#fdca26"
            ],
            [
             1,
             "#f0f921"
            ]
           ]
          },
          "colorway": [
           "#636efa",
           "#EF553B",
           "#00cc96",
           "#ab63fa",
           "#FFA15A",
           "#19d3f3",
           "#FF6692",
           "#B6E880",
           "#FF97FF",
           "#FECB52"
          ],
          "font": {
           "color": "#2a3f5f"
          },
          "geo": {
           "bgcolor": "white",
           "lakecolor": "white",
           "landcolor": "#E5ECF6",
           "showlakes": true,
           "showland": true,
           "subunitcolor": "white"
          },
          "hoverlabel": {
           "align": "left"
          },
          "hovermode": "closest",
          "mapbox": {
           "style": "light"
          },
          "paper_bgcolor": "white",
          "plot_bgcolor": "#E5ECF6",
          "polar": {
           "angularaxis": {
            "gridcolor": "white",
            "linecolor": "white",
            "ticks": ""
           },
           "bgcolor": "#E5ECF6",
           "radialaxis": {
            "gridcolor": "white",
            "linecolor": "white",
            "ticks": ""
           }
          },
          "scene": {
           "xaxis": {
            "backgroundcolor": "#E5ECF6",
            "gridcolor": "white",
            "gridwidth": 2,
            "linecolor": "white",
            "showbackground": true,
            "ticks": "",
            "zerolinecolor": "white"
           },
           "yaxis": {
            "backgroundcolor": "#E5ECF6",
            "gridcolor": "white",
            "gridwidth": 2,
            "linecolor": "white",
            "showbackground": true,
            "ticks": "",
            "zerolinecolor": "white"
           },
           "zaxis": {
            "backgroundcolor": "#E5ECF6",
            "gridcolor": "white",
            "gridwidth": 2,
            "linecolor": "white",
            "showbackground": true,
            "ticks": "",
            "zerolinecolor": "white"
           }
          },
          "shapedefaults": {
           "line": {
            "color": "#2a3f5f"
           }
          },
          "ternary": {
           "aaxis": {
            "gridcolor": "white",
            "linecolor": "white",
            "ticks": ""
           },
           "baxis": {
            "gridcolor": "white",
            "linecolor": "white",
            "ticks": ""
           },
           "bgcolor": "#E5ECF6",
           "caxis": {
            "gridcolor": "white",
            "linecolor": "white",
            "ticks": ""
           }
          },
          "title": {
           "x": 0.05
          },
          "xaxis": {
           "automargin": true,
           "gridcolor": "white",
           "linecolor": "white",
           "ticks": "",
           "title": {
            "standoff": 15
           },
           "zerolinecolor": "white",
           "zerolinewidth": 2
          },
          "yaxis": {
           "automargin": true,
           "gridcolor": "white",
           "linecolor": "white",
           "ticks": "",
           "title": {
            "standoff": 15
           },
           "zerolinecolor": "white",
           "zerolinewidth": 2
          }
         }
        },
        "title": {
         "text": "Average salary by gender"
        },
        "width": 700,
        "xaxis": {
         "anchor": "y",
         "autorange": true,
         "domain": [
          0,
          1
         ],
         "range": [
          -0.5,
          1.5
         ],
         "title": {
          "text": "Gender"
         },
         "type": "category"
        },
        "yaxis": {
         "anchor": "x",
         "autorange": true,
         "domain": [
          0,
          1
         ],
         "range": [
          0,
          326110.06042714143
         ],
         "title": {
          "text": "Average annual salary offered in INR"
         },
         "type": "linear"
        }
       }
      },
      "image/png": "[encoded data removed]",
      "text/html": [
       "<div>                            <div id=\"73545f61-be76-42d3-842d-8977bc10a8bc\" class=\"plotly-graph-div\" style=\"height:600px; width:700px;\"></div>            <script type=\"text/javascript\">                require([\"plotly\"], function(Plotly) {                    window.PLOTLYENV=window.PLOTLYENV || {};                                    if (document.getElementById(\"73545f61-be76-42d3-842d-8977bc10a8bc\")) {                    Plotly.newPlot(                        \"73545f61-be76-42d3-842d-8977bc10a8bc\",                        [{\"alignmentgroup\":\"True\",\"hovertemplate\":\"Gender=%{x}<br>Average annual salary offered in INR=%{y}<extra></extra>\",\"legendgroup\":\"\",\"marker\":{\"color\":[\"pink\",\"lightblue\"],\"pattern\":{\"shape\":\"\"}},\"name\":\"\",\"offsetgroup\":\"\",\"orientation\":\"v\",\"showlegend\":false,\"textposition\":\"auto\",\"x\":[\"f\",\"m\"],\"xaxis\":\"x\",\"y\":[290418.9944134078,309804.5574057844],\"yaxis\":\"y\",\"type\":\"bar\",\"width\":0.3}],                        {\"template\":{\"data\":{\"histogram2dcontour\":[{\"type\":\"histogram2dcontour\",\"colorbar\":{\"outlinewidth\":0,\"ticks\":\"\"},\"colorscale\":[[0.0,\"#0d0887\"],[0.1111111111111111,\"#46039f\"],[0.2222222222222222,\"#7201a8\"],[0.3333333333333333,\"#9c179e\"],[0.4444444444444444,\"#bd3786\"],[0.5555555555555556,\"#d8576b\"],[0.6666666666666666,\"#ed7953\"],[0.7777777777777778,\"#fb9f3a\"],[0.8888888888888888,\"#fdca26\"],[1.0,\"#f0f921\"]]}],\"choropleth\":[{\"type\":\"choropleth\",\"colorbar\":{\"outlinewidth\":0,\"ticks\":\"\"}}],\"histogram2d\":[{\"type\":\"histogram2d\",\"colorbar\":{\"outlinewidth\":0,\"ticks\":\"\"},\"colorscale\":[[0.0,\"#0d0887\"],[0.1111111111111111,\"#46039f\"],[0.2222222222222222,\"#7201a8\"],[0.3333333333333333,\"#9c179e\"],[0.4444444444444444,\"#bd3786\"],[0.5555555555555556,\"#d8576b\"],[0.6666666666666666,\"#ed7953\"],[0.7777777777777778,\"#fb9f3a\"],[0.8888888888888888,\"#fdca26\"],[1.0,\"#f0f921\"]]}],\"heatmap\":[{\"type\":\"heatmap\",\"colorbar\":{\"outlinewidth\":0,\"ticks\":\"\"},\"colorscale\":[[0.0,\"#0d0887\"],[0.1111111111111111,\"#46039f\"],[0.2222222222222222,\"#7201a8\"],[0.3333333333333333,\"#9c179e\"],[0.4444444444444444,\"#bd3786\"],[0.5555555555555556,\"#d8576b\"],[0.6666666666666666,\"#ed7953\"],[0.7777777777777778,\"#fb9f3a\"],[0.8888888888888888,\"#fdca26\"],[1.0,\"#f0f921\"]]}],\"heatmapgl\":[{\"type\":\"heatmapgl\",\"colorbar\":{\"outlinewidth\":0,\"ticks\":\"\"},\"colorscale\":[[0.0,\"#0d0887\"],[0.1111111111111111,\"#46039f\"],[0.2222222222222222,\"#7201a8\"],[0.3333333333333333,\"#9c179e\"],[0.4444444444444444,\"#bd3786\"],[0.5555555555555556,\"#d8576b\"],[0.6666666666666666,\"#ed7953\"],[0.7777777777777778,\"#fb9f3a\"],[0.8888888888888888,\"#fdca26\"],[1.0,\"#f0f921\"]]}],\"contourcarpet\":[{\"type\":\"contourcarpet\",\"colorbar\":{\"outlinewidth\":0,\"ticks\":\"\"}}],\"contour\":[{\"type\":\"contour\",\"colorbar\":{\"outlinewidth\":0,\"ticks\":\"\"},\"colorscale\":[[0.0,\"#0d0887\"],[0.1111111111111111,\"#46039f\"],[0.2222222222222222,\"#7201a8\"],[0.3333333333333333,\"#9c179e\"],[0.4444444444444444,\"#bd3786\"],[0.5555555555555556,\"#d8576b\"],[0.6666666666666666,\"#ed7953\"],[0.7777777777777778,\"#fb9f3a\"],[0.8888888888888888,\"#fdca26\"],[1.0,\"#f0f921\"]]}],\"surface\":[{\"type\":\"surface\",\"colorbar\":{\"outlinewidth\":0,\"ticks\":\"\"},\"colorscale\":[[0.0,\"#0d0887\"],[0.1111111111111111,\"#46039f\"],[0.2222222222222222,\"#7201a8\"],[0.3333333333333333,\"#9c179e\"],[0.4444444444444444,\"#bd3786\"],[0.5555555555555556,\"#d8576b\"],[0.6666666666666666,\"#ed7953\"],[0.7777777777777778,\"#fb9f3a\"],[0.8888888888888888,\"#fdca26\"],[1.0,\"#f0f921\"]]}],\"mesh3d\":[{\"type\":\"mesh3d\",\"colorbar\":{\"outlinewidth\":0,\"ticks\":\"\"}}],\"scatter\":[{\"fillpattern\":{\"fillmode\":\"overlay\",\"size\":10,\"solidity\":0.2},\"type\":\"scatter\"}],\"parcoords\":[{\"type\":\"parcoords\",\"line\":{\"colorbar\":{\"outlinewidth\":0,\"ticks\":\"\"}}}],\"scatterpolargl\":[{\"type\":\"scatterpolargl\",\"marker\":{\"colorbar\":{\"outlinewidth\":0,\"ticks\":\"\"}}}],\"bar\":[{\"error_x\":{\"color\":\"#2a3f5f\"},\"error_y\":{\"color\":\"#2a3f5f\"},\"marker\":{\"line\":{\"color\":\"#E5ECF6\",\"width\":0.5},\"pattern\":{\"fillmode\":\"overlay\",\"size\":10,\"solidity\":0.2}},\"type\":\"bar\"}],\"scattergeo\":[{\"type\":\"scattergeo\",\"marker\":{\"colorbar\":{\"outlinewidth\":0,\"ticks\":\"\"}}}],\"scatterpolar\":[{\"type\":\"scatterpolar\",\"marker\":{\"colorbar\":{\"outlinewidth\":0,\"ticks\":\"\"}}}],\"histogram\":[{\"marker\":{\"pattern\":{\"fillmode\":\"overlay\",\"size\":10,\"solidity\":0.2}},\"type\":\"histogram\"}],\"scattergl\":[{\"type\":\"scattergl\",\"marker\":{\"colorbar\":{\"outlinewidth\":0,\"ticks\":\"\"}}}],\"scatter3d\":[{\"type\":\"scatter3d\",\"line\":{\"colorbar\":{\"outlinewidth\":0,\"ticks\":\"\"}},\"marker\":{\"colorbar\":{\"outlinewidth\":0,\"ticks\":\"\"}}}],\"scattermapbox\":[{\"type\":\"scattermapbox\",\"marker\":{\"colorbar\":{\"outlinewidth\":0,\"ticks\":\"\"}}}],\"scatterternary\":[{\"type\":\"scatterternary\",\"marker\":{\"colorbar\":{\"outlinewidth\":0,\"ticks\":\"\"}}}],\"scattercarpet\":[{\"type\":\"scattercarpet\",\"marker\":{\"colorbar\":{\"outlinewidth\":0,\"ticks\":\"\"}}}],\"carpet\":[{\"aaxis\":{\"endlinecolor\":\"#2a3f5f\",\"gridcolor\":\"white\",\"linecolor\":\"white\",\"minorgridcolor\":\"white\",\"startlinecolor\":\"#2a3f5f\"},\"baxis\":{\"endlinecolor\":\"#2a3f5f\",\"gridcolor\":\"white\",\"linecolor\":\"white\",\"minorgridcolor\":\"white\",\"startlinecolor\":\"#2a3f5f\"},\"type\":\"carpet\"}],\"table\":[{\"cells\":{\"fill\":{\"color\":\"#EBF0F8\"},\"line\":{\"color\":\"white\"}},\"header\":{\"fill\":{\"color\":\"#C8D4E3\"},\"line\":{\"color\":\"white\"}},\"type\":\"table\"}],\"barpolar\":[{\"marker\":{\"line\":{\"color\":\"#E5ECF6\",\"width\":0.5},\"pattern\":{\"fillmode\":\"overlay\",\"size\":10,\"solidity\":0.2}},\"type\":\"barpolar\"}],\"pie\":[{\"automargin\":true,\"type\":\"pie\"}]},\"layout\":{\"autotypenumbers\":\"strict\",\"colorway\":[\"#636efa\",\"#EF553B\",\"#00cc96\",\"#ab63fa\",\"#FFA15A\",\"#19d3f3\",\"#FF6692\",\"#B6E880\",\"#FF97FF\",\"#FECB52\"],\"font\":{\"color\":\"#2a3f5f\"},\"hovermode\":\"closest\",\"hoverlabel\":{\"align\":\"left\"},\"paper_bgcolor\":\"white\",\"plot_bgcolor\":\"#E5ECF6\",\"polar\":{\"bgcolor\":\"#E5ECF6\",\"angularaxis\":{\"gridcolor\":\"white\",\"linecolor\":\"white\",\"ticks\":\"\"},\"radialaxis\":{\"gridcolor\":\"white\",\"linecolor\":\"white\",\"ticks\":\"\"}},\"ternary\":{\"bgcolor\":\"#E5ECF6\",\"aaxis\":{\"gridcolor\":\"white\",\"linecolor\":\"white\",\"ticks\":\"\"},\"baxis\":{\"gridcolor\":\"white\",\"linecolor\":\"white\",\"ticks\":\"\"},\"caxis\":{\"gridcolor\":\"white\",\"linecolor\":\"white\",\"ticks\":\"\"}},\"coloraxis\":{\"colorbar\":{\"outlinewidth\":0,\"ticks\":\"\"}},\"colorscale\":{\"sequential\":[[0.0,\"#0d0887\"],[0.1111111111111111,\"#46039f\"],[0.2222222222222222,\"#7201a8\"],[0.3333333333333333,\"#9c179e\"],[0.4444444444444444,\"#bd3786\"],[0.5555555555555556,\"#d8576b\"],[0.6666666666666666,\"#ed7953\"],[0.7777777777777778,\"#fb9f3a\"],[0.8888888888888888,\"#fdca26\"],[1.0,\"#f0f921\"]],\"sequentialminus\":[[0.0,\"#0d0887\"],[0.1111111111111111,\"#46039f\"],[0.2222222222222222,\"#7201a8\"],[0.3333333333333333,\"#9c179e\"],[0.4444444444444444,\"#bd3786\"],[0.5555555555555556,\"#d8576b\"],[0.6666666666666666,\"#ed7953\"],[0.7777777777777778,\"#fb9f3a\"],[0.8888888888888888,\"#fdca26\"],[1.0,\"#f0f921\"]],\"diverging\":[[0,\"#8e0152\"],[0.1,\"#c51b7d\"],[0.2,\"#de77ae\"],[0.3,\"#f1b6da\"],[0.4,\"#fde0ef\"],[0.5,\"#f7f7f7\"],[0.6,\"#e6f5d0\"],[0.7,\"#b8e186\"],[0.8,\"#7fbc41\"],[0.9,\"#4d9221\"],[1,\"#276419\"]]},\"xaxis\":{\"gridcolor\":\"white\",\"linecolor\":\"white\",\"ticks\":\"\",\"title\":{\"standoff\":15},\"zerolinecolor\":\"white\",\"automargin\":true,\"zerolinewidth\":2},\"yaxis\":{\"gridcolor\":\"white\",\"linecolor\":\"white\",\"ticks\":\"\",\"title\":{\"standoff\":15},\"zerolinecolor\":\"white\",\"automargin\":true,\"zerolinewidth\":2},\"scene\":{\"xaxis\":{\"backgroundcolor\":\"#E5ECF6\",\"gridcolor\":\"white\",\"linecolor\":\"white\",\"showbackground\":true,\"ticks\":\"\",\"zerolinecolor\":\"white\",\"gridwidth\":2},\"yaxis\":{\"backgroundcolor\":\"#E5ECF6\",\"gridcolor\":\"white\",\"linecolor\":\"white\",\"showbackground\":true,\"ticks\":\"\",\"zerolinecolor\":\"white\",\"gridwidth\":2},\"zaxis\":{\"backgroundcolor\":\"#E5ECF6\",\"gridcolor\":\"white\",\"linecolor\":\"white\",\"showbackground\":true,\"ticks\":\"\",\"zerolinecolor\":\"white\",\"gridwidth\":2}},\"shapedefaults\":{\"line\":{\"color\":\"#2a3f5f\"}},\"annotationdefaults\":{\"arrowcolor\":\"#2a3f5f\",\"arrowhead\":0,\"arrowwidth\":1},\"geo\":{\"bgcolor\":\"white\",\"landcolor\":\"#E5ECF6\",\"subunitcolor\":\"white\",\"showland\":true,\"showlakes\":true,\"lakecolor\":\"white\"},\"title\":{\"x\":0.05},\"mapbox\":{\"style\":\"light\"}}},\"xaxis\":{\"anchor\":\"y\",\"domain\":[0.0,1.0],\"title\":{\"text\":\"Gender\"}},\"yaxis\":{\"anchor\":\"x\",\"domain\":[0.0,1.0],\"title\":{\"text\":\"Average annual salary offered in INR\"}},\"legend\":{\"tracegroupgap\":0},\"title\":{\"text\":\"Average salary by gender\"},\"barmode\":\"relative\",\"height\":600,\"width\":700},                        {\"responsive\": true}                    ).then(function(){\n",
       "                            \n",
       "var gd = document.getElementById('73545f61-be76-42d3-842d-8977bc10a8bc');\n",
       "var x = new MutationObserver(function (mutations, observer) {{\n",
       "        var display = window.getComputedStyle(gd).display;\n",
       "        if (!display || display === 'none') {{\n",
       "            console.log([gd, 'removed!']);\n",
       "            Plotly.purge(gd);\n",
       "            observer.disconnect();\n",
       "        }}\n",
       "}});\n",
       "\n",
       "// Listen for the removal of the full notebook cells\n",
       "var notebookContainer = gd.closest('#notebook-container');\n",
       "if (notebookContainer) {{\n",
       "    x.observe(notebookContainer, {childList: true});\n",
       "}}\n",
       "\n",
       "// Listen for the clearing of the current output cell\n",
       "var outputEl = gd.closest('.output');\n",
       "if (outputEl) {{\n",
       "    x.observe(outputEl, {childList: true});\n",
       "}}\n",
       "\n",
       "                        })                };                });            </script>        </div>"
      ]
     },
     "metadata": {},
     "output_type": "display_data"
    }
   ],
   "source": [
    "# חישוב ממוצע המשכורות לפי מגדר\n",
    "average_salary_gender = pj.groupby('Gender')['Salary'].mean().reset_index()\n",
    "fig = px.bar(average_salary_gender, x='Gender', y='Salary', \n",
    "             title='Average salary by gender', \n",
    "             labels={'Gender': 'Gender', 'Salary': 'Average annual salary offered in INR'},\n",
    "             color_discrete_map={'m': 'lightblue', 'f': 'pink'},\n",
    "             width=700, height=600)\n",
    "fig.update_traces(marker=dict(color=['lightblue' if Gender == 'm' else 'pink' for Gender in average_salary_gender['Gender']]))\n",
    "# הצגת הגרף\n",
    "fig.update_traces(width=0.3)\n",
    "fig.show()"
   ]
  },
  {
   "cell_type": "markdown",
   "id": "21e27e74-35fb-499f-b146-9872ad73fdea",
   "metadata": {},
   "source": [
    "(0.045 ניתן לראות שהממוצע שכר שמוצע לגברים בשוק מלכתחילה יותר גבוה מלנשים- נשים עם ממוצע של 290.419 אלף רופי הודי(בשקלים 13,068.855 עם שער של <br>\n",
    "וגברים עם ממוצע של 309.8046 אלף רופי הודי (בשקלים 13,941.207 עם שער של 0.045) <br>\n",
    "בהמשך, ננסה לנתח אם יש לכך הצדקה <br>"
   ]
  },
  {
   "cell_type": "code",
   "execution_count": 483,
   "id": "b7ba7d6b-66f7-4904-83d2-bfe50ea53786",
   "metadata": {},
   "outputs": [
    {
     "data": {
      "image/png": "[encoded data removed]",
      "text/plain": [
       "<Figure size 600x400 with 3 Axes>"
      ]
     },
     "metadata": {},
     "output_type": "display_data"
    }
   ],
   "source": [
    "# חישוב הממוצע של כמותי, אנגלית ולוגיקה\n",
    "pj['Average_Score'] = pj[['Quant', 'English', 'Logical']].mean(axis=1)\n",
    "\n",
    "# חישוב ממוצעים לפי מגדר\n",
    "average_10percentage = pj.groupby('Gender')['10percentage'].mean().reset_index()\n",
    "average_12percentage = pj.groupby('Gender')['12percentage'].mean().reset_index()\n",
    "average_collegeGPA = pj.groupby('Gender')['collegeGPA'].mean().reset_index()\n",
    "\n",
    "# אפשרויות צבעים וגודל\n",
    "colors = ['#FF69B4', '#1f77b4']  # צבעי נשים וגברים\n",
    "plot_size = (6, 4)  # גודל הגרפים\n",
    "\n",
    "# יצירת גרפים\n",
    "plt.figure(figsize=plot_size)\n",
    "\n",
    "# גרף ממוצע כיתה י\n",
    "plt.subplot(1, 3, 1)\n",
    "sns.barplot(data=average_10percentage, x='Gender', y='10percentage', palette=colors)\n",
    "plt.title('10grade')\n",
    "plt.ylabel('10percentage')\n",
    "\n",
    "# גרף ממוצע כיתה י\"ב\n",
    "plt.subplot(1, 3, 2)\n",
    "sns.barplot(data=average_12percentage, x='Gender', y='12percentage', palette=colors)\n",
    "plt.title('12grade')\n",
    "plt.ylabel('12percentage')\n",
    "\n",
    "# גרף ממוצע תואר\n",
    "plt.subplot(1, 3, 3)\n",
    "sns.barplot(data=average_collegeGPA, x='Gender', y='collegeGPA', palette=colors)\n",
    "plt.title('Degree grade')\n",
    "plt.ylabel('Degree')\n",
    "\n",
    "# כותרת ראשית\n",
    "plt.suptitle('Grade averages over the years by gender', fontsize=16)\n",
    "\n",
    "# גרף ממוצע של כמותי, אנגלית ולוגיקה ביחד\n",
    "#plt.subplot(2, 2, 4)\n",
    "#sns.barplot(data=average_scores, x='Gender', y='Average_Score', palette=colors)\n",
    "#plt.title('ממוצע של כמותי, אנגלית ולוגיקה ביחד')\n",
    "#plt.ylabel('ממוצע כללי')\n",
    "\n",
    "plt.tight_layout()\n",
    "plt.show()"
   ]
  },
  {
   "cell_type": "markdown",
   "id": "2492f9ae-dc7c-4334-a64f-c3b65094c403",
   "metadata": {},
   "source": [
    "מהגרפים ניתן לראות כי במהלך השנים, ממוצע ציוני הנשים גבוה משל הגברים, אמנם הפער לא גדול, אך קיים."
   ]
  },
  {
   "cell_type": "code",
   "execution_count": 484,
   "id": "25227144-6601-47d2-ab32-36d1f4f50144",
   "metadata": {},
   "outputs": [
    {
     "data": {
      "text/html": [
       "<div>\n",
       "<style scoped>\n",
       "    .dataframe tbody tr th:only-of-type {\n",
       "        vertical-align: middle;\n",
       "    }\n",
       "\n",
       "    .dataframe tbody tr th {\n",
       "        vertical-align: top;\n",
       "    }\n",
       "\n",
       "    .dataframe thead th {\n",
       "        text-align: right;\n",
       "    }\n",
       "</style>\n",
       "<table border=\"1\" class=\"dataframe\">\n",
       "  <thead>\n",
       "    <tr style=\"text-align: right;\">\n",
       "      <th></th>\n",
       "      <th>agreeableness</th>\n",
       "      <th>conscientiousness</th>\n",
       "      <th>extraversion</th>\n",
       "      <th>nueroticism</th>\n",
       "      <th>openess_to_experience</th>\n",
       "    </tr>\n",
       "    <tr>\n",
       "      <th>Gender</th>\n",
       "      <th></th>\n",
       "      <th></th>\n",
       "      <th></th>\n",
       "      <th></th>\n",
       "      <th></th>\n",
       "    </tr>\n",
       "  </thead>\n",
       "  <tbody>\n",
       "    <tr>\n",
       "      <th>f</th>\n",
       "      <td>0.260969</td>\n",
       "      <td>0.097907</td>\n",
       "      <td>0.001029</td>\n",
       "      <td>-0.134532</td>\n",
       "      <td>0.013019</td>\n",
       "    </tr>\n",
       "    <tr>\n",
       "      <th>m</th>\n",
       "      <td>0.083937</td>\n",
       "      <td>-0.081580</td>\n",
       "      <td>-0.011702</td>\n",
       "      <td>-0.149552</td>\n",
       "      <td>-0.189471</td>\n",
       "    </tr>\n",
       "  </tbody>\n",
       "</table>\n",
       "</div>"
      ],
      "text/plain": [
       "        agreeableness  conscientiousness  extraversion  nueroticism  \\\n",
       "Gender                                                                \n",
       "f            0.260969           0.097907      0.001029    -0.134532   \n",
       "m            0.083937          -0.081580     -0.011702    -0.149552   \n",
       "\n",
       "        openess_to_experience  \n",
       "Gender                         \n",
       "f                    0.013019  \n",
       "m                   -0.189471  "
      ]
     },
     "execution_count": 484,
     "metadata": {},
     "output_type": "execute_result"
    }
   ],
   "source": [
    "# ממוצעים של תכונות אופי לפי מגדר\n",
    "average_traits_by_gender = pj.groupby('Gender')[['agreeableness', 'conscientiousness', 'extraversion', 'nueroticism', 'openess_to_experience']].mean()\n",
    "average_traits_by_gender"
   ]
  },
  {
   "cell_type": "markdown",
   "id": "582ef5e7-eb66-472a-bf51-efffa90741a3",
   "metadata": {},
   "source": [
    "## מקרא לתכונות בדאטה (נלקח מג'יפיטי)"
   ]
  },
  {
   "cell_type": "markdown",
   "id": "985e56f1-f934-47aa-b81b-5a4763d1ea97",
   "metadata": {},
   "source": [
    "Conscientiousness (מצפוניות):<br>\n",
    "מתארת את רמת הארגון, המשמעת העצמית, והשקדנות של האדם.<br>\n",
    "אנשים עם ציונים גבוהים בתכונה זו נוטים להיות מאורגנים, אחראיים, ותמיד שואפים לבצע את המשימות שלהם בצורה הטובה ביותר.<br>\n",
    "אנשים עם ציונים נמוכים עשויים להיות יותר ספונטניים ולעיתים חסרי משמעת עצמית.<br>\n",
    "\n",
    "Agreeableness (הסכמה<br>\n",
    "מתארת את רמת האכפתיות, האמפתיה והנדיבות של האדם.<br>\n",
    "אנשים עם ציונים גבוהים בתכונה זו נוטים להיות ידידותיים, שותפי פעולה, ומסייעים לאחרים.<br>\n",
    "אנשים עם ציונים נמוכים עשויים להיות יותר תחרותיים ופחות אכפתיים לצרכים של אחרים.<br>\n",
    "\n",
    "Extraversion (מוחצנות):<br>\n",
    "מתארת את רמת האנרגיה, החברותיות והנטייה לחיפוש ריגושים של האדם.<br>\n",
    "אנשים עם ציונים גבוהים בתכונה זו נוטים להיות חברתיים, מדברים הרבה, ומחפשים פעילויות חברתיות.<br>\n",
    "אנשים עם ציונים נמוכים עשויים להיות יותר שקטים, פרטיים ומעדיפים פעילויות אינדיבידואליות.<br>\n",
    "\n",
    "Neuroticism (נוירוטיות):<br>\n",
    "מתארת את רמת הרגישות של האדם למתח, חרדה ושליליות.<br>\n",
    "אנשים עם ציונים גבוהים בתכונה זו נוטים לחוות רגשות שליליים בתדירות גבוהה יותר, כמו חרדה, דיכאון וכעס.<br>\n",
    "אנשים עם ציונים נמוכים נוטים להיות רגועים, יציבים רגשית, ופחות מושפעים משליליות.<br>\n",
    "\n",
    "\n",
    "Openness to Experience (פתיחות לחוויות):<br>\n",
    "מתארת את רמת הדמיון, הסקרנות והרצון לחקור דברים חדשים של האדם.<br>\n",
    "אנשים עם ציונים גבוהים בתכונה זו נוטים להיות יצירתיים, בעלי דמיון עשיר ופתוחים לרעיונות וחוויות חדשות.<br>\n",
    "אנשים עם ציונים נמוכים נוטים להיות יותר שמרנים ומעדיפים שגרה וביטחון.<br>"
   ]
  },
  {
   "cell_type": "markdown",
   "id": "2980d272-d5ee-4260-8a9b-091c13e23eab",
   "metadata": {},
   "source": [
    "# First Observation "
   ]
  },
  {
   "cell_type": "markdown",
   "id": "31b1d712-8043-494a-a8ef-30890fa3e21d",
   "metadata": {},
   "source": [
    "לסיכום, ניתן לראות כי במהלך השנים ממוצע ציוני הנשים גבוה משל הגברים פה ראינו זאת בציוני תואר וציונים בתיכון.<br>\n",
    "כעת נחשפנו גם שישנן תכונות אופי חיוביות מאוד למציאת מקום עבודה שאף בהן נשים מובילות על גברים.<br>\n",
    ",תכונות שמצביעות על כך שנשים יותר מאורגנות, אחראיות, שואפות גבוה, מבצעות את המשימה שלהן על הצד הטוב ביותר<br>\n",
    "סקרניות יותר, ויצירתיות יותר<br>\n",
    "כמו כן הן אף חברתיות יותר ותקשורתיות יותר.<br>\n",
    "לכאורה נראה כי נשים אמורות להרוויח יותר, אך במשק זה הפוך. <br>\n",
    "ההשערה שלנו כי דבר זה עלול לקרות בעקבות אפליה מגדרית וחוסר הערכה ליכולות נשיות."
   ]
  },
  {
   "cell_type": "markdown",
   "id": "133c211c-f161-43a9-8406-32c6cb6a0344",
   "metadata": {},
   "source": [
    "---\n",
    "# 2.   Focus on salary vs Graduation year\n",
    "---"
   ]
  },
  {
   "cell_type": "code",
   "execution_count": 523,
   "id": "3b1c0cdf-5dd9-44d8-acd5-4a08687b6a44",
   "metadata": {},
   "outputs": [
    {
     "data": {
      "text/plain": [
       "[0, 2007, 2009, 2010, 2011, 2012, 2013, 2014, 2015, 2016, 2017]"
      ]
     },
     "execution_count": 523,
     "metadata": {},
     "output_type": "execute_result"
    }
   ],
   "source": [
    "GraduationYear = pj[\"GraduationYear\"].unique()\n",
    "sorted(GraduationYear)"
   ]
  },
  {
   "cell_type": "markdown",
   "id": "3e0b853f-a520-4266-a52c-96040f135ac7",
   "metadata": {},
   "source": [
    "בדקנו בחקירת הדאטה בהתחלה וראינו שיש רק בן אדם אחד ששם בטעות 0 בשנה, לא משמעותי ולכן נתעלם ממנו"
   ]
  },
  {
   "cell_type": "code",
   "execution_count": 553,
   "id": "e3d744ce-081c-4053-af63-1c3b13dcd31c",
   "metadata": {},
   "outputs": [
    {
     "data": {
      "text/html": [
       "<div>\n",
       "<style scoped>\n",
       "    .dataframe tbody tr th:only-of-type {\n",
       "        vertical-align: middle;\n",
       "    }\n",
       "\n",
       "    .dataframe tbody tr th {\n",
       "        vertical-align: top;\n",
       "    }\n",
       "\n",
       "    .dataframe thead th {\n",
       "        text-align: right;\n",
       "    }\n",
       "</style>\n",
       "<table border=\"1\" class=\"dataframe\">\n",
       "  <thead>\n",
       "    <tr style=\"text-align: right;\">\n",
       "      <th></th>\n",
       "      <th>Graduation Year</th>\n",
       "      <th>Average Salary</th>\n",
       "    </tr>\n",
       "  </thead>\n",
       "  <tbody>\n",
       "    <tr>\n",
       "      <th>0</th>\n",
       "      <td>2007</td>\n",
       "      <td>120000</td>\n",
       "    </tr>\n",
       "    <tr>\n",
       "      <th>1</th>\n",
       "      <td>2009</td>\n",
       "      <td>310312</td>\n",
       "    </tr>\n",
       "    <tr>\n",
       "      <th>2</th>\n",
       "      <td>2010</td>\n",
       "      <td>442476</td>\n",
       "    </tr>\n",
       "    <tr>\n",
       "      <th>3</th>\n",
       "      <td>2011</td>\n",
       "      <td>367971</td>\n",
       "    </tr>\n",
       "    <tr>\n",
       "      <th>4</th>\n",
       "      <td>2012</td>\n",
       "      <td>317168</td>\n",
       "    </tr>\n",
       "    <tr>\n",
       "      <th>5</th>\n",
       "      <td>2013</td>\n",
       "      <td>274297</td>\n",
       "    </tr>\n",
       "    <tr>\n",
       "      <th>6</th>\n",
       "      <td>2014</td>\n",
       "      <td>262971</td>\n",
       "    </tr>\n",
       "    <tr>\n",
       "      <th>7</th>\n",
       "      <td>2015</td>\n",
       "      <td>304531</td>\n",
       "    </tr>\n",
       "    <tr>\n",
       "      <th>8</th>\n",
       "      <td>2016</td>\n",
       "      <td>335000</td>\n",
       "    </tr>\n",
       "    <tr>\n",
       "      <th>9</th>\n",
       "      <td>2017</td>\n",
       "      <td>209285</td>\n",
       "    </tr>\n",
       "  </tbody>\n",
       "</table>\n",
       "</div>"
      ],
      "text/plain": [
       "   Graduation Year  Average Salary\n",
       "0             2007          120000\n",
       "1             2009          310312\n",
       "2             2010          442476\n",
       "3             2011          367971\n",
       "4             2012          317168\n",
       "5             2013          274297\n",
       "6             2014          262971\n",
       "7             2015          304531\n",
       "8             2016          335000\n",
       "9             2017          209285"
      ]
     },
     "execution_count": 553,
     "metadata": {},
     "output_type": "execute_result"
    }
   ],
   "source": [
    "graduation_year_column = 'GraduationYear'\n",
    "salary_column = 'Salary'\n",
    "data_filtered = pj[pj[graduation_year_column] > 0]\n",
    "average_salary = data_filtered.groupby(graduation_year_column)[salary_column].mean().astype(int).reset_index()\n",
    "average_salary.columns = ['Graduation Year', 'Average Salary']\n",
    "average_salary"
   ]
  },
  {
   "cell_type": "code",
   "execution_count": 563,
   "id": "04488112-5eb0-4047-9657-1f618db864b4",
   "metadata": {},
   "outputs": [
    {
     "data": {
      "image/png": "[encoded data removed]",
      "text/plain": [
       "<Figure size 1400x900 with 1 Axes>"
      ]
     },
     "metadata": {},
     "output_type": "display_data"
    }
   ],
   "source": [
    "\n",
    "years = [2010, 2011, 2012, 2013, 2014]\n",
    "filtered_data = pj[pj['GraduationYear'].isin(years)]\n",
    "sns.set_theme(style=\"whitegrid\")\n",
    "sns.barplot(data=average_salary_by_year, x='GraduationYear', y='Salary', color='#87CEEB')\n",
    "plt.xticks(rotation=0, ha='right')\n",
    "plt.xlabel('Graduation Year')\n",
    "plt.ylabel('Average Salary')\n",
    "plt.title('Average Salary by Graduation Year')\n",
    "plt.show()"
   ]
  },
  {
   "cell_type": "code",
   "execution_count": 520,
   "id": "5fb6bc43-0e31-4d11-ba1b-4e25315ff80f",
   "metadata": {},
   "outputs": [],
   "source": [
    "# חישוב ממוצע גיל סיום תואר לפי מגדר הבדל של שנה\n",
    "#average_graduation_age = pj.groupby('Gender')['Age_at_Graduation'].mean().reset_index()\n",
    "\n",
    "#average_graduation_age"
   ]
  },
  {
   "cell_type": "code",
   "execution_count": null,
   "id": "1d730909-2a40-4c39-9b28-3df781d26e83",
   "metadata": {},
   "outputs": [],
   "source": []
  },
  {
   "cell_type": "code",
   "execution_count": 486,
   "id": "8d912097-fc05-45f8-87e1-f7e48abaf14e",
   "metadata": {},
   "outputs": [],
   "source": [
    "#ma_data = pj[(pj['Degree'] == 'M.Tech./M.E.') | (pj['Degree'] == 'M.Sc. (Tech.)')]\n",
    "\n",
    "# אם נרצה השוואה של תואר ראשון מול שני\n",
    "#fig, axes = plt.subplots(figsize=(10, 4), ncols=2)\n",
    "#sns.scatterplot(ba_data, y = \"Salary\", x=\"collegeGPA\", hue='Gender', ax = axes[0])\n",
    "#axes[0]\n",
    "#fig.suptitle('Scatter Plot of Salary vs College GPA by Degree and Gender', fontsize=16)\n",
    "#sns.scatterplot(ma_data, y = \"Salary\", x=\"collegeGPA\", hue='Gender', ax = axes[1])\n",
    "#axes[1]\n",
    "#fig.suptitle('Scatter Plot of Salary vs College GPA by Degree and Gender', fontsize=16)\n",
    "#plt.tight_layout()\n",
    "\n",
    "# הערה של סוג תואר\n",
    "#plt.show()"
   ]
  },
  {
   "cell_type": "code",
   "execution_count": 488,
   "id": "326db849-5dd0-45c4-9032-b90812213f87",
   "metadata": {},
   "outputs": [],
   "source": [
    "#subject_columns = ['10percentage', '12percentage', 'collegeGPA', 'ElectronicsAndSemicon','ComputerScience', 'MechanicalEngg', 'ElectricalEngg', 'TelecomEngg','CivilEngg', 'Quant', 'Logical', 'English', 'ComputerProgramming', 'Domain']\n",
    "#salary_column = 'Salary'\n",
    "\n",
    "# Calculate the correlation between subject scores and salary\n",
    "#correlation_data = pj[subject_columns + [salary_column]].corr()\n",
    "\n",
    "# Extract the correlations of subject scores with salary\n",
    "#correlation_with_salary = correlation_data[[salary_column]].drop(index=salary_column)\n",
    "\n",
    "# Create a heatmap of the correlations\n",
    "#plt.figure(figsize=(10, 6))\n",
    "#sns.heatmap(correlation_with_salary, annot=True, cmap='coolwarm', vmin=-1, vmax=1)\n",
    "#plt.title('Correlation between Subject Scores and Salary')\n",
    "#plt.xlabel('Salary')\n",
    "#plt.ylabel('Subject Scores')\n",
    "#plt.show()"
   ]
  },
  {
   "cell_type": "code",
   "execution_count": 489,
   "id": "334a4b3a-7b7b-41d3-941d-7a7478219961",
   "metadata": {},
   "outputs": [],
   "source": [
    "#personality_columns = ['conscientiousness', 'agreeableness', 'extraversion', 'nueroticism', 'openess_to_experience']\n",
    "\n",
    "#min_scores = pj[personality_columns].min()\n",
    "#max_scores = pj[personality_columns].max()\n",
    "\n",
    "#min_max_scores = pd.DataFrame({'min': min_scores, 'max': max_scores})\n",
    "\n",
    "#print(\"Min and Max Scores for Personality Traits:\")\n",
    "#min_max_scores"
   ]
  },
  {
   "cell_type": "code",
   "execution_count": 490,
   "id": "a60dff5b-8d61-45ed-a2b6-956a26376c0d",
   "metadata": {},
   "outputs": [],
   "source": [
    "#columns_of_interest = ['English', 'Logical', 'Quant', 'Domain', 'ComputerProgramming', 'ElectronicsAndSemicon',\n",
    "    #'ComputerScience', 'MechanicalEngg', 'ElectricalEngg', 'TelecomEngg', 'CivilEngg']\n",
    "\n",
    "#min_scores = pj[columns_of_interest].min()\n",
    "#max_scores = pj[columns_of_interest].max()\n",
    "\n",
    "#min_max_scores = pd.DataFrame({'min': min_scores, 'max': max_scores})\n",
    "\n",
    "#print(\"Min and Max Scores for Selected Columns:\")\n",
    "#min_max_scores"
   ]
  },
  {
   "cell_type": "code",
   "execution_count": 491,
   "id": "08ac2a40-85bc-4f64-90e7-ac3f78b26011",
   "metadata": {},
   "outputs": [],
   "source": [
    "# מחיקת השורה עם השנת סיום 0 המעצבנת זה מוחק לנצח!!\n",
    "# מציאת האינדקס של השורה עם הערך הרצוי\n",
    "#index_to_delete = df[df['GraduationYear'] == 0].index[0]\n",
    "\n",
    "# מחיקת השורה באינדקס המצויין\n",
    "#df.drop(index_to_delete, inplace=True)"
   ]
  },
  {
   "cell_type": "code",
   "execution_count": 492,
   "id": "154e3413-64e6-42a0-b6f7-9825eb6e281f",
   "metadata": {},
   "outputs": [],
   "source": [
    "# טווח גילאים עד השנה האחרונה שסיימו בה תואר בקובץ\n",
    "#current_year = pd.to_datetime('2017').year\n",
    "#pj['DOB'] = pd.to_datetime(pj['DOB'])\n",
    "# מוסיף עמודה לקובץ!!!!!!!!\n",
    "###pj['Age'] = current_year - pj['DOB'].dt.year\n",
    "#min_age = pj['Age'].min()\n",
    "#max_age = pj['Age'].max()\n",
    "#print(min_age, max_age)"
   ]
  }
 ],
 "metadata": {
  "kernelspec": {
   "display_name": "Python 3 (ipykernel)",
   "language": "python",
   "name": "python3"
  },
  "language_info": {
   "codemirror_mode": {
    "name": "ipython",
    "version": 3
   },
   "file_extension": ".py",
   "mimetype": "text/x-python",
   "name": "python",
   "nbconvert_exporter": "python",
   "pygments_lexer": "ipython3",
   "version": "3.11.7"
  }
 },
 "nbformat": 4,
 "nbformat_minor": 5
}
